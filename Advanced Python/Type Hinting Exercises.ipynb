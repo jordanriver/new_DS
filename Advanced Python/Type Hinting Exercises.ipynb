{
 "cells": [
  {
   "cell_type": "markdown",
   "id": "612e125c",
   "metadata": {},
   "source": [
    "# Exercise 1"
   ]
  },
  {
   "cell_type": "markdown",
   "id": "2a8dc347",
   "metadata": {},
   "source": [
    "Define a Car class with the following attributes:\n",
    "\n",
    "make (str): The make of the car.\n",
    "model (str): The model of the car.\n",
    "year (int): The year the car was manufactured.\n",
    "mileage (float): The mileage of the car.\n",
    "color optional string, defaults to None"
   ]
  },
  {
   "cell_type": "code",
   "execution_count": 1,
   "id": "1db88442",
   "metadata": {},
   "outputs": [],
   "source": [
    "from typing import Optional, List, Tuple, Union, Any, Callable, Set, Dict"
   ]
  },
  {
   "cell_type": "code",
   "execution_count": 9,
   "id": "936eb5a7",
   "metadata": {},
   "outputs": [],
   "source": [
    "class Car:\n",
    "    def __init__ (self, make: str, model: str, year: int, mileage: float, color: Optional[str] = None):\n",
    "        self.make = make\n",
    "        self.model = model\n",
    "        self.year = year\n",
    "        self.mileage = mileage\n",
    "        self.color = color\n",
    "    \n",
    "    def __str__(self) -> str:\n",
    "        return f\"{self.year} {self.make} {self.model} with {self.mileage} miles\"\n",
    "    \n",
    "    __repr__ = __str__\n",
    "        "
   ]
  },
  {
   "cell_type": "markdown",
   "id": "c57f5024",
   "metadata": {},
   "source": [
    "# Exercise 2"
   ]
  },
  {
   "cell_type": "markdown",
   "id": "b896cdaf",
   "metadata": {},
   "source": [
    "Define a function called drive_car that takes a Car object as input and returns a str indicating its make and model"
   ]
  },
  {
   "cell_type": "code",
   "execution_count": 10,
   "id": "57f3c320",
   "metadata": {},
   "outputs": [],
   "source": [
    "def drive_car(car: Car) -> str:\n",
    "    car_make = car.make\n",
    "    car_model = car.model\n",
    "    \n",
    "    return f'make: {car_make}, model: {car_model}'"
   ]
  },
  {
   "cell_type": "code",
   "execution_count": 11,
   "id": "8dd4a316",
   "metadata": {},
   "outputs": [
    {
     "name": "stdout",
     "output_type": "stream",
     "text": [
      "make: Toyota, model: Corolla\n"
     ]
    }
   ],
   "source": [
    "my_car = Car('Toyota', 'Corolla', 2015, 100000, 'red')\n",
    "\n",
    "print(drive_car(my_car))"
   ]
  },
  {
   "cell_type": "markdown",
   "id": "63a5ae1a",
   "metadata": {},
   "source": [
    "# Exercise 3"
   ]
  },
  {
   "cell_type": "markdown",
   "id": "356d44c7",
   "metadata": {},
   "source": [
    "Define a function called find_most_mileage_car that takes a list of Car objects as input and returns the Car object with the highest mileage."
   ]
  },
  {
   "cell_type": "code",
   "execution_count": 12,
   "id": "c51bc1a9",
   "metadata": {},
   "outputs": [],
   "source": [
    "def find_most_mileage_car(car_list: List[Car]) -> Car:\n",
    "    most_mileage_car = car_list[0]\n",
    "    \n",
    "    for car in car_list:\n",
    "        if car.mileage > most_mileage_car.mileage:\n",
    "            most_mileage_car = car\n",
    "        else:\n",
    "            continue\n",
    "    \n",
    "    return most_mileage_car"
   ]
  },
  {
   "cell_type": "code",
   "execution_count": 13,
   "id": "878a5e27",
   "metadata": {},
   "outputs": [
    {
     "name": "stdout",
     "output_type": "stream",
     "text": [
      "2015 Toyota Tacoma with 500000 miles\n"
     ]
    }
   ],
   "source": [
    "# Generate a list of cars\n",
    "car1 = Car('Toyota', 'Corolla', 2015, 100000, 'red')\n",
    "car2 = Car('Toyota', 'Camry', 2015, 200000, 'blue')\n",
    "car3 = Car('Toyota', 'Prius', 2015, 300000, 'green')\n",
    "car4 = Car('Toyota', 'Supra', 2015, 400000, 'yellow')\n",
    "car5 = Car('Toyota', 'Tacoma', 2015, 500000, 'black')\n",
    "\n",
    "car_list = [car1, car2, car3, car4, car5]\n",
    "\n",
    "print(find_most_mileage_car(car_list))"
   ]
  },
  {
   "cell_type": "markdown",
   "id": "ae065946",
   "metadata": {},
   "source": [
    "# Exercise 4"
   ]
  },
  {
   "cell_type": "markdown",
   "id": "efbb4534",
   "metadata": {},
   "source": [
    "Define a function called group_cars_by_make that takes a list of Car objects as input and returns a dictionary where the keys are the makes of the cars (string) and the values are lists of Car objects of that make."
   ]
  },
  {
   "cell_type": "code",
   "execution_count": 23,
   "id": "174e0661",
   "metadata": {},
   "outputs": [],
   "source": [
    "def group_cars_by_make(car_list: List[Car]) -> Dict[str, List[Car]]:\n",
    "    grouped_cars = {}\n",
    "    \n",
    "    for car in car_list:\n",
    "        if car.make not in car_dict:\n",
    "            car_dict[car.make] = [car]\n",
    "        else:\n",
    "            car_dict[car.make].append(car)\n",
    "    \n",
    "    return car_dict"
   ]
  },
  {
   "cell_type": "code",
   "execution_count": 24,
   "id": "3ae7c38d",
   "metadata": {},
   "outputs": [
    {
     "name": "stdout",
     "output_type": "stream",
     "text": [
      "{'Toyota': [2015 Toyota Corolla with 100000 miles, 2015 Toyota Camry with 200000 miles, 2015 Toyota Prius with 300000 miles, 2015 Toyota Supra with 400000 miles, 2015 Toyota Tacoma with 500000 miles, 2015 Toyota Corolla with 100000 miles, 2015 Toyota Camry with 200000 miles, 2015 Toyota Prius with 300000 miles, 2015 Toyota Supra with 400000 miles, 2015 Toyota Tacoma with 500000 miles], 'Ford': [2015 Ford Fusion with 600000 miles, 2015 Ford Fiesta with 700000 miles, 2015 Ford Focus with 800000 miles, 2015 Ford Escape with 900000 miles, 2015 Ford Explorer with 1000000 miles, 2015 Ford Fusion with 600000 miles, 2015 Ford Fiesta with 700000 miles, 2015 Ford Focus with 800000 miles, 2015 Ford Escape with 900000 miles, 2015 Ford Explorer with 1000000 miles]}\n"
     ]
    }
   ],
   "source": [
    "# Generate a list of cars with different makes\n",
    "car1 = Car('Toyota', 'Corolla', 2015, 100000, 'red')\n",
    "car2 = Car('Toyota', 'Camry', 2015, 200000, 'blue')\n",
    "car3 = Car('Toyota', 'Prius', 2015, 300000, 'green')\n",
    "car4 = Car('Toyota', 'Supra', 2015, 400000, 'yellow')\n",
    "car5 = Car('Toyota', 'Tacoma', 2015, 500000, 'black')\n",
    "car6 = Car('Ford', 'Fusion', 2015, 600000, 'white')\n",
    "car7 = Car('Ford', 'Fiesta', 2015, 700000, 'gray')\n",
    "car8 = Car('Ford', 'Focus', 2015, 800000, 'silver')\n",
    "car9 = Car('Ford', 'Escape', 2015, 900000, 'brown')\n",
    "car10 = Car('Ford', 'Explorer', 2015, 1000000, 'orange')\n",
    "\n",
    "car_list_2 = [car1, car2, car3, car4, car5, car6, car7, car8, car9, car10]\n",
    "\n",
    "print(group_cars_by_make(car_list_2))"
   ]
  },
  {
   "cell_type": "markdown",
   "id": "70ae7f93",
   "metadata": {},
   "source": [
    "# Intermediate difficulty"
   ]
  },
  {
   "cell_type": "markdown",
   "id": "85d81637",
   "metadata": {},
   "source": [
    "# Exercise 1"
   ]
  },
  {
   "cell_type": "markdown",
   "id": "1fbc07cf",
   "metadata": {},
   "source": [
    "List Manipulation:\n",
    "Define a function called double_even that takes a list of integers as input and returns a new list where each even number is doubled. Use type hints to specify the input and output types."
   ]
  },
  {
   "cell_type": "code",
   "execution_count": null,
   "id": "edb31928",
   "metadata": {},
   "outputs": [],
   "source": []
  },
  {
   "cell_type": "markdown",
   "id": "c9c88786",
   "metadata": {},
   "source": [
    "# Exercise 2"
   ]
  },
  {
   "cell_type": "markdown",
   "id": "f646cd80",
   "metadata": {},
   "source": [
    "String Formatting:\n",
    "Define a function called format_name that takes two strings as input, representing a first name and a last name, and returns a formatted full name string. Use type hints to specify the input and output types."
   ]
  },
  {
   "cell_type": "markdown",
   "id": "717c6dea",
   "metadata": {},
   "source": [
    "# Exercise 3"
   ]
  },
  {
   "cell_type": "markdown",
   "id": "40054993",
   "metadata": {},
   "source": [
    "Define a function called invert_dict that takes a dictionary as input and returns a new dictionary where the keys and values are inverted. Use type hints to specify the input and output types."
   ]
  }
 ],
 "metadata": {
  "kernelspec": {
   "display_name": "Python 3 (ipykernel)",
   "language": "python",
   "name": "python3"
  },
  "language_info": {
   "codemirror_mode": {
    "name": "ipython",
    "version": 3
   },
   "file_extension": ".py",
   "mimetype": "text/x-python",
   "name": "python",
   "nbconvert_exporter": "python",
   "pygments_lexer": "ipython3",
   "version": "3.12.0"
  }
 },
 "nbformat": 4,
 "nbformat_minor": 5
}
