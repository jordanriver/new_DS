{
 "cells": [
  {
   "cell_type": "markdown",
   "id": "67a98ea0",
   "metadata": {},
   "source": [
    "# Advanced Python"
   ]
  },
  {
   "cell_type": "markdown",
   "id": "0bd1da91",
   "metadata": {},
   "source": [
    "## Error Handling"
   ]
  },
  {
   "cell_type": "markdown",
   "id": "d69e5926",
   "metadata": {},
   "source": [
    "Write a function that divies two numbers. Handle a situation where one of the numbers is 0"
   ]
  },
  {
   "cell_type": "markdown",
   "id": "c1e278fc",
   "metadata": {},
   "source": [
    "## Python Conventions"
   ]
  },
  {
   "cell_type": "markdown",
   "id": "57c2e51a",
   "metadata": {},
   "source": [
    "Correct the following non conventions to their correct form"
   ]
  },
  {
   "cell_type": "code",
   "execution_count": 23,
   "id": "8875ca63",
   "metadata": {},
   "outputs": [],
   "source": [
    "width = 10\n",
    "num_height = 20"
   ]
  },
  {
   "cell_type": "code",
   "execution_count": 1,
   "id": "afbcdcfa",
   "metadata": {},
   "outputs": [],
   "source": [
    "def calculate_total(items):\n",
    "    total=0\n",
    "    for item in items:\n",
    "        total+=item.price\n",
    "    return total"
   ]
  },
  {
   "cell_type": "markdown",
   "id": "0a1a4dd2",
   "metadata": {},
   "source": [
    "## Type Hinting"
   ]
  },
  {
   "cell_type": "markdown",
   "id": "5d6e09fb",
   "metadata": {},
   "source": [
    "Annotate the following functions. If in doubt, import from typing (from typing import ...)"
   ]
  },
  {
   "cell_type": "code",
   "execution_count": 7,
   "id": "a410a1da",
   "metadata": {},
   "outputs": [],
   "source": [
    "from typing import Union, Optional"
   ]
  },
  {
   "cell_type": "code",
   "execution_count": 8,
   "id": "be2fb9b9",
   "metadata": {},
   "outputs": [],
   "source": [
    "def add_numbers(x: Union[int, float], y: Union[int, float]) -> Union[int, float]:\n",
    "    return x + y"
   ]
  },
  {
   "cell_type": "code",
   "execution_count": 9,
   "id": "b164c48f",
   "metadata": {},
   "outputs": [],
   "source": [
    "def sum_list(numbers_list: list[Union[int, float]]) -> Union[int, float]:\n",
    "    return sum(numbers)"
   ]
  },
  {
   "cell_type": "code",
   "execution_count": 10,
   "id": "4de8e742",
   "metadata": {},
   "outputs": [],
   "source": [
    "# the number could be either int or float\n",
    "def square_number(num: Union[int, float]) -> Union[int, float]:\n",
    "    return num ** 2"
   ]
  },
  {
   "cell_type": "code",
   "execution_count": 11,
   "id": "daeb1957",
   "metadata": {},
   "outputs": [],
   "source": [
    "# If the number is provided, it can only be an int\n",
    "def square_optional(num: Optional[int] = None) -> Optional[int]:\n",
    "    if num is None:\n",
    "        return None\n",
    "    \n",
    "    return num ** 2"
   ]
  },
  {
   "cell_type": "markdown",
   "id": "2a74e3b4",
   "metadata": {},
   "source": [
    "## Virtual Environment"
   ]
  },
  {
   "cell_type": "markdown",
   "id": "f1eea4eb",
   "metadata": {},
   "source": [
    "What is a virtual environment? what is it useful for?"
   ]
  },
  {
   "cell_type": "markdown",
   "id": "1a6edc4b",
   "metadata": {},
   "source": [
    "### Answer\n",
    "A virtual environment is a space that allows users to interact with a computing environment. In the case of Python, a virtual environment (venv) holds a copy of the Python program and its dependencies. Having multiple virtual environments allows a user to fit a particular Python version or a set of packages for each project or purpose. So, for example, if a project from a few years ago used an older version of Python or some other package, you can still use your work via the older version."
   ]
  },
  {
   "cell_type": "markdown",
   "id": "b6150847",
   "metadata": {},
   "source": [
    "## Closure"
   ]
  },
  {
   "cell_type": "markdown",
   "id": "9ddd9fb9",
   "metadata": {},
   "source": [
    "What is closure? why does it allegedly contradict how Python works?"
   ]
  },
  {
   "cell_type": "markdown",
   "id": "855995c5",
   "metadata": {},
   "source": [
    "### Answer\n",
    "Closure is the ability of an embedded function to store a reference to a variable introduced by the outer (super) function after it finished running. Normally, variable reference in functions is discarded once the function completed its run to prevent memory overuse. Closure is an instance that allegedly contradicts the normal way Python works."
   ]
  },
  {
   "cell_type": "markdown",
   "id": "be9790de",
   "metadata": {},
   "source": [
    "## Partial"
   ]
  },
  {
   "cell_type": "markdown",
   "id": "505d8c43",
   "metadata": {},
   "source": [
    "Define a partial. A function that takes a function with a few parameters and returns a function with less parameters"
   ]
  },
  {
   "cell_type": "code",
   "execution_count": 3,
   "id": "5f8cce1b",
   "metadata": {},
   "outputs": [
    {
     "name": "stdout",
     "output_type": "stream",
     "text": [
      "Apple is ranked 3rd in terms of glycemic index among all fruits in the dictionary you provided.\n",
      "Banana is ranked 8th in terms of glycemic index among all fruits in the dictionary you provided.\n"
     ]
    }
   ],
   "source": [
    "from functools import partial\n",
    "import pandas as pd\n",
    "import inflect\n",
    "\n",
    "# Create a dictionary of 10 fruits and their glycemic index\n",
    "fruits = {\n",
    "    \"apple\": 39,\n",
    "    \"banana\": 62,\n",
    "    \"cherry\": 22,\n",
    "    \"date\": 103,\n",
    "    \"elderberry\": 106,\n",
    "    \"fig\": 61,\n",
    "    \"grape\": 46,\n",
    "    \"honeydew\": 58,\n",
    "    \"kiwi\": 52,\n",
    "    \"lemon\": 22\n",
    "}\n",
    "\n",
    "\n",
    "# Create a function that takes a fruit and returns its score compared to all other fruits in the dictionary in terms of glycemic index\n",
    "def fruit_score(fruit: str, fruits: dict[str, int]) -> int:\n",
    "    \n",
    "    # Convert the dictionary to a pandas Series\n",
    "    fruits = pd.Series(fruits, index=fruits.keys())\n",
    "    \n",
    "    # Sort the series in ascending order based on the glycemic index\n",
    "    fruits = fruits.sort_values()\n",
    "    \n",
    "    # Get the index of the fruit in the sorted series\n",
    "    score = fruits.index.get_loc(fruit)\n",
    "    \n",
    "    # Convert the interger score to an ordinal number\n",
    "    p = inflect.engine()\n",
    "    score = p.ordinal(score + 1)\n",
    "    \n",
    "    return f\"{fruit.title()} is ranked {score} in terms of glycemic index among all fruits in the dictionary you provided.\"\n",
    "\n",
    "# Create a partial function that uses the fruit_score function with the fruits dictionary\n",
    "fruit_score_partial = partial(fruit_score, fruits=fruits)\n",
    "\n",
    "# Test the partial function with a fruit\n",
    "print(fruit_score_partial(\"apple\"))\n",
    "print(fruit_score_partial(\"banana\"))"
   ]
  },
  {
   "cell_type": "markdown",
   "id": "5219d9a7",
   "metadata": {},
   "source": [
    "## Decorator"
   ]
  },
  {
   "cell_type": "markdown",
   "id": "29d05ec9",
   "metadata": {},
   "source": [
    "Write a decorator that calculates the time a function takes to run"
   ]
  },
  {
   "cell_type": "code",
   "execution_count": 35,
   "id": "71603e30",
   "metadata": {},
   "outputs": [],
   "source": [
    "from typing import Callable\n",
    "\n",
    "# Create a decorator that calculates the time taken for a function to run\n",
    "def time_it(func: Callable) -> Callable:\n",
    "    import time\n",
    "    \n",
    "    def wrapper(*args, **kwargs):\n",
    "        start = time.perf_counter()\n",
    "        result = func(*args, **kwargs)\n",
    "        end = time.perf_counter()\n",
    "        print(f\"\\nTime taken to run the {func.__name__}: {(end - start):.8f} seconds\")\n",
    "        return result\n",
    "    \n",
    "    return wrapper"
   ]
  },
  {
   "cell_type": "code",
   "execution_count": 54,
   "id": "9c0d390c",
   "metadata": {},
   "outputs": [],
   "source": [
    "import requests\n",
    "from typing import Optional\n",
    "\n",
    "# Create a function that takes a food item and returns its nutritional information\n",
    "@time_it\n",
    "def get_nutrition(app_id: str, api_key: str) -> dict:\n",
    "\n",
    "    # Endpoint URL for the Edamam Nutrition Analysis API\n",
    "    url = \"https://api.edamam.com/api/nutrition-data\"\n",
    "\n",
    "    # Food item you want to analyze\n",
    "    try:\n",
    "        food_item = input(\"Enter a food item: \")\n",
    "    except Exception:\n",
    "        print(\"Please provide a valid food item.\")\n",
    "\n",
    "    # Parameters for the request\n",
    "    params = {\n",
    "        'app_id': APP_ID,\n",
    "        'app_key': API_KEY,\n",
    "        'ingr': food_item\n",
    "    }\n",
    "\n",
    "    # Send the request to the API\n",
    "    response = requests.get(url, params=params)\n",
    "\n",
    "    # Check if request was successful\n",
    "    if response.status_code == 200:\n",
    "        \n",
    "        # Parse the response\n",
    "        nutrition_data = response.json()\n",
    "        \n",
    "        # Print a title sentence for the nutritional information\n",
    "        print(\"Nutritional Information for:\", food_item)\n",
    "        \n",
    "        # Convert the data to a pandas DataFrame\n",
    "        df = pd.DataFrame(nutrition_data['totalNutrients']).transpose()\n",
    "        \n",
    "        # Return the DataFrame\n",
    "        return df       \n",
    "        \n",
    "    else:\n",
    "        print(f\"Error: {response.status_code}\")\n",
    "        print(response.text)"
   ]
  },
  {
   "cell_type": "code",
   "execution_count": 56,
   "id": "260cbcf2",
   "metadata": {},
   "outputs": [
    {
     "name": "stdout",
     "output_type": "stream",
     "text": [
      "Nutritional Information for: 7 tablespoons of instant oats\n",
      "\n",
      "Time taken to run the get_nutrition: 5.96081430 seconds\n"
     ]
    },
    {
     "data": {
      "text/html": [
       "<div>\n",
       "<style scoped>\n",
       "    .dataframe tbody tr th:only-of-type {\n",
       "        vertical-align: middle;\n",
       "    }\n",
       "\n",
       "    .dataframe tbody tr th {\n",
       "        vertical-align: top;\n",
       "    }\n",
       "\n",
       "    .dataframe thead th {\n",
       "        text-align: right;\n",
       "    }\n",
       "</style>\n",
       "<table border=\"1\" class=\"dataframe\">\n",
       "  <thead>\n",
       "    <tr style=\"text-align: right;\">\n",
       "      <th></th>\n",
       "      <th>label</th>\n",
       "      <th>quantity</th>\n",
       "      <th>unit</th>\n",
       "    </tr>\n",
       "  </thead>\n",
       "  <tbody>\n",
       "    <tr>\n",
       "      <th>ENERC_KCAL</th>\n",
       "      <td>Energy</td>\n",
       "      <td>370.5975</td>\n",
       "      <td>kcal</td>\n",
       "    </tr>\n",
       "    <tr>\n",
       "      <th>FAT</th>\n",
       "      <td>Total lipid (fat)</td>\n",
       "      <td>7.063875</td>\n",
       "      <td>g</td>\n",
       "    </tr>\n",
       "    <tr>\n",
       "      <th>FASAT</th>\n",
       "      <td>Fatty acids, total saturated</td>\n",
       "      <td>1.382062</td>\n",
       "      <td>g</td>\n",
       "    </tr>\n",
       "    <tr>\n",
       "      <th>FATRN</th>\n",
       "      <td>Fatty acids, total trans</td>\n",
       "      <td>0.01638</td>\n",
       "      <td>g</td>\n",
       "    </tr>\n",
       "    <tr>\n",
       "      <th>FAMS</th>\n",
       "      <td>Fatty acids, total monounsaturated</td>\n",
       "      <td>2.3751</td>\n",
       "      <td>g</td>\n",
       "    </tr>\n",
       "    <tr>\n",
       "      <th>FAPU</th>\n",
       "      <td>Fatty acids, total polyunsaturated</td>\n",
       "      <td>2.590087</td>\n",
       "      <td>g</td>\n",
       "    </tr>\n",
       "    <tr>\n",
       "      <th>CHOCDF</th>\n",
       "      <td>Carbohydrate, by difference</td>\n",
       "      <td>71.150625</td>\n",
       "      <td>g</td>\n",
       "    </tr>\n",
       "    <tr>\n",
       "      <th>CHOCDF.net</th>\n",
       "      <td>Carbohydrates (net)</td>\n",
       "      <td>60.913125</td>\n",
       "      <td>g</td>\n",
       "    </tr>\n",
       "    <tr>\n",
       "      <th>FIBTG</th>\n",
       "      <td>Fiber, total dietary</td>\n",
       "      <td>10.2375</td>\n",
       "      <td>g</td>\n",
       "    </tr>\n",
       "    <tr>\n",
       "      <th>SUGAR</th>\n",
       "      <td>Sugars, total including NLEA</td>\n",
       "      <td>1.535625</td>\n",
       "      <td>g</td>\n",
       "    </tr>\n",
       "    <tr>\n",
       "      <th>PROCNT</th>\n",
       "      <td>Protein</td>\n",
       "      <td>12.182625</td>\n",
       "      <td>g</td>\n",
       "    </tr>\n",
       "    <tr>\n",
       "      <th>CHOLE</th>\n",
       "      <td>Cholesterol</td>\n",
       "      <td>0.0</td>\n",
       "      <td>mg</td>\n",
       "    </tr>\n",
       "    <tr>\n",
       "      <th>NA</th>\n",
       "      <td>Sodium, Na</td>\n",
       "      <td>225.225</td>\n",
       "      <td>mg</td>\n",
       "    </tr>\n",
       "    <tr>\n",
       "      <th>CA</th>\n",
       "      <td>Calcium, Ca</td>\n",
       "      <td>359.33625</td>\n",
       "      <td>mg</td>\n",
       "    </tr>\n",
       "    <tr>\n",
       "      <th>MG</th>\n",
       "      <td>Magnesium, Mg</td>\n",
       "      <td>131.04</td>\n",
       "      <td>mg</td>\n",
       "    </tr>\n",
       "    <tr>\n",
       "      <th>K</th>\n",
       "      <td>Potassium, K</td>\n",
       "      <td>374.6925</td>\n",
       "      <td>mg</td>\n",
       "    </tr>\n",
       "    <tr>\n",
       "      <th>FE</th>\n",
       "      <td>Iron, Fe</td>\n",
       "      <td>25.286625</td>\n",
       "      <td>mg</td>\n",
       "    </tr>\n",
       "    <tr>\n",
       "      <th>ZN</th>\n",
       "      <td>Zinc, Zn</td>\n",
       "      <td>2.569612</td>\n",
       "      <td>mg</td>\n",
       "    </tr>\n",
       "    <tr>\n",
       "      <th>P</th>\n",
       "      <td>Phosphorus, P</td>\n",
       "      <td>433.04625</td>\n",
       "      <td>mg</td>\n",
       "    </tr>\n",
       "    <tr>\n",
       "      <th>VITA_RAE</th>\n",
       "      <td>Vitamin A, RAE</td>\n",
       "      <td>790.335</td>\n",
       "      <td>µg</td>\n",
       "    </tr>\n",
       "    <tr>\n",
       "      <th>VITC</th>\n",
       "      <td>Vitamin C, total ascorbic acid</td>\n",
       "      <td>0.0</td>\n",
       "      <td>mg</td>\n",
       "    </tr>\n",
       "    <tr>\n",
       "      <th>THIA</th>\n",
       "      <td>Thiamin</td>\n",
       "      <td>0.455569</td>\n",
       "      <td>mg</td>\n",
       "    </tr>\n",
       "    <tr>\n",
       "      <th>RIBF</th>\n",
       "      <td>Riboflavin</td>\n",
       "      <td>0.051187</td>\n",
       "      <td>mg</td>\n",
       "    </tr>\n",
       "    <tr>\n",
       "      <th>NIA</th>\n",
       "      <td>Niacin</td>\n",
       "      <td>1.0647</td>\n",
       "      <td>mg</td>\n",
       "    </tr>\n",
       "    <tr>\n",
       "      <th>VITB6A</th>\n",
       "      <td>Vitamin B-6</td>\n",
       "      <td>0.0819</td>\n",
       "      <td>mg</td>\n",
       "    </tr>\n",
       "    <tr>\n",
       "      <th>FOLDFE</th>\n",
       "      <td>Folate, DFE</td>\n",
       "      <td>32.76</td>\n",
       "      <td>µg</td>\n",
       "    </tr>\n",
       "    <tr>\n",
       "      <th>FOLFD</th>\n",
       "      <td>Folate, food</td>\n",
       "      <td>32.76</td>\n",
       "      <td>µg</td>\n",
       "    </tr>\n",
       "    <tr>\n",
       "      <th>FOLAC</th>\n",
       "      <td>Folic acid</td>\n",
       "      <td>0.0</td>\n",
       "      <td>µg</td>\n",
       "    </tr>\n",
       "    <tr>\n",
       "      <th>VITB12</th>\n",
       "      <td>Vitamin B-12</td>\n",
       "      <td>0.0</td>\n",
       "      <td>µg</td>\n",
       "    </tr>\n",
       "    <tr>\n",
       "      <th>VITD</th>\n",
       "      <td>Vitamin D (D2 + D3)</td>\n",
       "      <td>0.0</td>\n",
       "      <td>µg</td>\n",
       "    </tr>\n",
       "    <tr>\n",
       "      <th>TOCPHA</th>\n",
       "      <td>Vitamin E (alpha-tocopherol)</td>\n",
       "      <td>0.522112</td>\n",
       "      <td>mg</td>\n",
       "    </tr>\n",
       "    <tr>\n",
       "      <th>VITK1</th>\n",
       "      <td>Vitamin K (phylloquinone)</td>\n",
       "      <td>1.945125</td>\n",
       "      <td>µg</td>\n",
       "    </tr>\n",
       "    <tr>\n",
       "      <th>WATER</th>\n",
       "      <td>Water</td>\n",
       "      <td>9.13185</td>\n",
       "      <td>g</td>\n",
       "    </tr>\n",
       "  </tbody>\n",
       "</table>\n",
       "</div>"
      ],
      "text/plain": [
       "                                         label   quantity  unit\n",
       "ENERC_KCAL                              Energy   370.5975  kcal\n",
       "FAT                          Total lipid (fat)   7.063875     g\n",
       "FASAT             Fatty acids, total saturated   1.382062     g\n",
       "FATRN                 Fatty acids, total trans    0.01638     g\n",
       "FAMS        Fatty acids, total monounsaturated     2.3751     g\n",
       "FAPU        Fatty acids, total polyunsaturated   2.590087     g\n",
       "CHOCDF             Carbohydrate, by difference  71.150625     g\n",
       "CHOCDF.net                 Carbohydrates (net)  60.913125     g\n",
       "FIBTG                     Fiber, total dietary    10.2375     g\n",
       "SUGAR             Sugars, total including NLEA   1.535625     g\n",
       "PROCNT                                 Protein  12.182625     g\n",
       "CHOLE                              Cholesterol        0.0    mg\n",
       "NA                                  Sodium, Na    225.225    mg\n",
       "CA                                 Calcium, Ca  359.33625    mg\n",
       "MG                               Magnesium, Mg     131.04    mg\n",
       "K                                 Potassium, K   374.6925    mg\n",
       "FE                                    Iron, Fe  25.286625    mg\n",
       "ZN                                    Zinc, Zn   2.569612    mg\n",
       "P                                Phosphorus, P  433.04625    mg\n",
       "VITA_RAE                        Vitamin A, RAE    790.335    µg\n",
       "VITC            Vitamin C, total ascorbic acid        0.0    mg\n",
       "THIA                                   Thiamin   0.455569    mg\n",
       "RIBF                                Riboflavin   0.051187    mg\n",
       "NIA                                     Niacin     1.0647    mg\n",
       "VITB6A                             Vitamin B-6     0.0819    mg\n",
       "FOLDFE                             Folate, DFE      32.76    µg\n",
       "FOLFD                             Folate, food      32.76    µg\n",
       "FOLAC                               Folic acid        0.0    µg\n",
       "VITB12                            Vitamin B-12        0.0    µg\n",
       "VITD                       Vitamin D (D2 + D3)        0.0    µg\n",
       "TOCPHA            Vitamin E (alpha-tocopherol)   0.522112    mg\n",
       "VITK1                Vitamin K (phylloquinone)   1.945125    µg\n",
       "WATER                                    Water    9.13185     g"
      ]
     },
     "execution_count": 56,
     "metadata": {},
     "output_type": "execute_result"
    }
   ],
   "source": [
    "API_KEY = '7d499023d5bf34bf17727429dca6ee8a'\n",
    "APP_ID = '19344a0d'\n",
    "\n",
    "get_nutrition(APP_ID, API_KEY)"
   ]
  },
  {
   "cell_type": "code",
   "execution_count": 9,
   "id": "7b77cb8c",
   "metadata": {},
   "outputs": [
    {
     "name": "stdout",
     "output_type": "stream",
     "text": [
      "Time taken to run the fruit_score: 0.00106590 seconds\n"
     ]
    },
    {
     "data": {
      "text/plain": [
       "'Apple is ranked 3rd in terms of glycemic index among all fruits in the dictionary you provided.'"
      ]
     },
     "execution_count": 9,
     "metadata": {},
     "output_type": "execute_result"
    }
   ],
   "source": [
    "fruit_score(\"apple\", fruits)"
   ]
  },
  {
   "cell_type": "markdown",
   "id": "4289fc29",
   "metadata": {},
   "source": [
    "## Lambda"
   ]
  },
  {
   "cell_type": "markdown",
   "id": "4b29eed5",
   "metadata": {},
   "source": [
    "Sort a dictionary using the sorted method. Use lambda for the sorting logic"
   ]
  },
  {
   "cell_type": "code",
   "execution_count": 47,
   "id": "ccb98331",
   "metadata": {},
   "outputs": [
    {
     "data": {
      "text/plain": [
       "[('cherry', 22),\n",
       " ('lemon', 22),\n",
       " ('apple', 39),\n",
       " ('grape', 46),\n",
       " ('kiwi', 52),\n",
       " ('honeydew', 58),\n",
       " ('fig', 61),\n",
       " ('banana', 62),\n",
       " ('date', 103),\n",
       " ('elderberry', 106)]"
      ]
     },
     "execution_count": 47,
     "metadata": {},
     "output_type": "execute_result"
    }
   ],
   "source": [
    "fruits_sorted_by_glycemic_index = sorted(fruits.items(), key=lambda item: item[1])\n",
    "fruits_sorted_by_glycemic_index"
   ]
  },
  {
   "cell_type": "markdown",
   "id": "3b6e27a8",
   "metadata": {},
   "source": [
    "## Big O"
   ]
  },
  {
   "cell_type": "markdown",
   "id": "10afbc40",
   "metadata": {},
   "source": [
    "What are the following Big o complexities?"
   ]
  },
  {
   "cell_type": "code",
   "execution_count": 13,
   "id": "86f24806",
   "metadata": {},
   "outputs": [],
   "source": [
    "for i in range(n):\n",
    "    print(i)"
   ]
  },
  {
   "cell_type": "markdown",
   "id": "b8929c5d",
   "metadata": {},
   "source": [
    "O(n)"
   ]
  },
  {
   "cell_type": "code",
   "execution_count": null,
   "id": "f2952b3c",
   "metadata": {},
   "outputs": [],
   "source": [
    "for i in range(n):\n",
    "    for j in range(n):\n",
    "        print(i, j)"
   ]
  },
  {
   "cell_type": "markdown",
   "id": "1a9a2bfd",
   "metadata": {},
   "source": [
    "O(n<sup>2</sup>)"
   ]
  },
  {
   "cell_type": "code",
   "execution_count": null,
   "id": "d427c66f",
   "metadata": {},
   "outputs": [],
   "source": [
    "for i in range(n):\n",
    "    print(i)\n",
    "for j in range(n):\n",
    "    print(j)"
   ]
  },
  {
   "cell_type": "markdown",
   "id": "c6767f8d",
   "metadata": {},
   "source": [
    "O(n)"
   ]
  },
  {
   "cell_type": "markdown",
   "id": "a81db8dd",
   "metadata": {},
   "source": [
    "## Generators"
   ]
  },
  {
   "cell_type": "markdown",
   "id": "bc783399",
   "metadata": {},
   "source": [
    "Write a function, that does a for loop that iterates through a generator. The generator should yield n numbers, the second function should print all those numbers."
   ]
  },
  {
   "cell_type": "code",
   "execution_count": 77,
   "id": "14141570",
   "metadata": {},
   "outputs": [],
   "source": [
    "\n",
    "def number_generator(n):\n",
    "    for i in range(n + 1, 1, -1):\n",
    "        yield i - 1\n",
    "\n",
    "def countdown(n):\n",
    "    for i in number_generator(n):\n",
    "        print(i)"
   ]
  },
  {
   "cell_type": "code",
   "execution_count": 78,
   "id": "7b78e5df",
   "metadata": {},
   "outputs": [
    {
     "name": "stdout",
     "output_type": "stream",
     "text": [
      "8\n",
      "7\n",
      "6\n",
      "5\n",
      "4\n",
      "3\n",
      "2\n",
      "1\n"
     ]
    }
   ],
   "source": [
    "countdown(8)"
   ]
  },
  {
   "cell_type": "markdown",
   "id": "b47f6332",
   "metadata": {},
   "source": [
    "## Async Code"
   ]
  },
  {
   "cell_type": "markdown",
   "id": "ff776669",
   "metadata": {},
   "source": [
    "1. What is the difference between a process and a thread in Python? Which fits which task?\n",
    "2. Is multithreading done in parallel in Python?\n",
    "3. Are coroutines closer to multithreading or multiprocesses? Whats the difference between coroutines and the one its more similar to?"
   ]
  },
  {
   "cell_type": "markdown",
   "id": "cf27905f",
   "metadata": {},
   "source": [
    "### Answers:\n",
    "1. Every CPU can run one process e.g., run Python, but each process can have multiple threads that run concurrently. In asynchronous code, using threads is more useful for I/O bound tasks and using processes is more useful for CPU bound tasks.\n",
    "\n",
    "2. Multithreading is not done in parallel in Python but concurrently i.e., while waiting for a response for one thread, another thread runs.\n",
    "\n",
    "3. Coroutines are closer to multithreading. Coroutines are functions that can suspend their running and continue at a later time. So, while multithreading achieves concurrent running via multiple threads, coroutines achieve this via running on a single thread."
   ]
  }
 ],
 "metadata": {
  "kernelspec": {
   "display_name": "Python 3",
   "language": "python",
   "name": "python3"
  },
  "language_info": {
   "codemirror_mode": {
    "name": "ipython",
    "version": 3
   },
   "file_extension": ".py",
   "mimetype": "text/x-python",
   "name": "python",
   "nbconvert_exporter": "python",
   "pygments_lexer": "ipython3",
   "version": "3.11.3"
  }
 },
 "nbformat": 4,
 "nbformat_minor": 5
}
