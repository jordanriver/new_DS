{
 "cells": [
  {
   "cell_type": "markdown",
   "id": "92e1d2f4",
   "metadata": {},
   "source": [
    "# Basic Python"
   ]
  },
  {
   "cell_type": "code",
   "execution_count": 1,
   "id": "069e5a84",
   "metadata": {},
   "outputs": [],
   "source": [
    "from typing import Optional, List, Tuple, Union, Any, Callable, Set, Dict"
   ]
  },
  {
   "cell_type": "markdown",
   "id": "1c6f8d64",
   "metadata": {},
   "source": [
    "## Data Structures"
   ]
  },
  {
   "cell_type": "markdown",
   "id": "defc5e69",
   "metadata": {},
   "source": [
    "What is the following code going to print in each case? (uncomment the code to see it with helpful colors, but don't run it so you dont see the answer)"
   ]
  },
  {
   "cell_type": "code",
   "execution_count": 2,
   "id": "92e5f2dc",
   "metadata": {},
   "outputs": [],
   "source": [
    "answer = None"
   ]
  },
  {
   "cell_type": "code",
   "execution_count": 3,
   "id": "12a4f7f5",
   "metadata": {},
   "outputs": [],
   "source": [
    "# if answer:\n",
    "#     print('Got it')\n",
    "# else:\n",
    "#     print('Havent got it')"
   ]
  },
  {
   "cell_type": "code",
   "execution_count": 4,
   "id": "17626ea4",
   "metadata": {},
   "outputs": [],
   "source": [
    "# num = 0\n",
    "# if num:\n",
    "#     print('Got it')\n",
    "# else:\n",
    "#     print('havent got it ')"
   ]
  },
  {
   "cell_type": "markdown",
   "id": "1667266c",
   "metadata": {},
   "source": [
    "### Answers:\n",
    "1. The above code is going too print 'Havn't got it', since 'None' is handled by python as False.\n",
    "2. The above code is going too print 'Havn't got it', since '0' is handled by python as False."
   ]
  },
  {
   "cell_type": "markdown",
   "id": "6a19ec58",
   "metadata": {},
   "source": [
    "## Functions"
   ]
  },
  {
   "cell_type": "markdown",
   "id": "26aa9c4a",
   "metadata": {},
   "source": [
    "1. What is the value of res?\n",
    "2. What does the sum_ function return?\n",
    "3. Are the two answers in 1 and 2 necessarily the same?"
   ]
  },
  {
   "cell_type": "code",
   "execution_count": 5,
   "id": "b54128cf",
   "metadata": {},
   "outputs": [],
   "source": [
    "def sum_(a,b):\n",
    "    ans = a+b\n",
    "    return ans"
   ]
  },
  {
   "cell_type": "code",
   "execution_count": 6,
   "id": "fcbbfb43",
   "metadata": {},
   "outputs": [
    {
     "data": {
      "text/plain": [
       "3"
      ]
     },
     "execution_count": 6,
     "metadata": {},
     "output_type": "execute_result"
    }
   ],
   "source": [
    "res = sum_(1,2)\n",
    "res"
   ]
  },
  {
   "cell_type": "markdown",
   "id": "9c9c7385",
   "metadata": {},
   "source": [
    "### Answers:\n",
    "1. The value of res is 3.\n",
    "2. The sum function returns a sum of the values or the its arguments 'a' and 'b'.\n",
    "3. The two answers in 1 and 2 aren't necessarily the same, because we can assign different values to 'a' and 'b' and the value of res will change accordingly."
   ]
  },
  {
   "cell_type": "markdown",
   "id": "bd95e5bf",
   "metadata": {},
   "source": [
    "## Loops"
   ]
  },
  {
   "cell_type": "markdown",
   "id": "3c9543a0",
   "metadata": {},
   "source": [
    "Write a function that calculates a factorial using a loop. \n",
    "For example, the function will receive the number 4 and return 24 (4*3*2*1)."
   ]
  },
  {
   "cell_type": "code",
   "execution_count": 7,
   "id": "e3475b29",
   "metadata": {},
   "outputs": [],
   "source": [
    "def calculate_factorial(factorial):\n",
    "    base = 1\n",
    "    product = 1\n",
    "    try:\n",
    "        while base < factorial:\n",
    "            product *= (base + 1)\n",
    "            base += 1\n",
    "        else:\n",
    "            return product\n",
    "    except Exception as e:\n",
    "        print('Invalid input!')   "
   ]
  },
  {
   "cell_type": "code",
   "execution_count": 8,
   "id": "69b83be1",
   "metadata": {},
   "outputs": [
    {
     "data": {
      "text/plain": [
       "120"
      ]
     },
     "execution_count": 8,
     "metadata": {},
     "output_type": "execute_result"
    }
   ],
   "source": [
    "calculate_factorial(5)"
   ]
  },
  {
   "cell_type": "markdown",
   "id": "76928291",
   "metadata": {},
   "source": [
    "## Importing Code"
   ]
  },
  {
   "cell_type": "markdown",
   "id": "6abd8aac",
   "metadata": {},
   "source": [
    "Why do we sometimes see people writing:\n",
    "if __name__ == \"__main__\"\n",
    "In what case would that be useful?"
   ]
  },
  {
   "cell_type": "markdown",
   "id": "b9bd6b7c",
   "metadata": {},
   "source": [
    "### Answer:\n",
    "People sometime use the if __name__ == '__main__' block so that the code will execute only when the python file is run as a script. This is useful when you want to allow for the python file to be run as a script (a whole program)  and to also allow it to be imported as a module. For example, if you write a program to solve some problem that uses various function and classes, you might want to reuse these functions and modules again for a different program / problem."
   ]
  },
  {
   "cell_type": "markdown",
   "id": "c2e80a65",
   "metadata": {},
   "source": [
    "## Handling Files"
   ]
  },
  {
   "cell_type": "markdown",
   "id": "a671534f",
   "metadata": {},
   "source": [
    "When reading a file we might want to use the with keyword, e.g:"
   ]
  },
  {
   "cell_type": "code",
   "execution_count": 9,
   "id": "2cb28173",
   "metadata": {},
   "outputs": [],
   "source": [
    "# with open(file_path, 'r') as f:\n",
    "#     print(f.readlines())"
   ]
  },
  {
   "cell_type": "markdown",
   "id": "75b0a035",
   "metadata": {},
   "source": [
    "Why use with? how does it help?"
   ]
  },
  {
   "cell_type": "markdown",
   "id": "48620dfc",
   "metadata": {},
   "source": [
    "### Answer:\n"
   ]
  },
  {
   "cell_type": "markdown",
   "id": "f6a95e1e",
   "metadata": {},
   "source": [
    "# OOP"
   ]
  },
  {
   "cell_type": "markdown",
   "id": "686fea92",
   "metadata": {},
   "source": [
    "## OOP 3 Principles"
   ]
  },
  {
   "cell_type": "markdown",
   "id": "966c7122",
   "metadata": {},
   "source": [
    "### Encapsulation"
   ]
  },
  {
   "cell_type": "markdown",
   "id": "4b1602dc",
   "metadata": {},
   "source": [
    "Write a class that uses encapsulation. Use a protected variable and a method that uses that protected variable. The method can either change the variable (after some validation) or just return it"
   ]
  },
  {
   "cell_type": "code",
   "execution_count": null,
   "id": "433d5ff0",
   "metadata": {},
   "outputs": [],
   "source": [
    "class Patient:\n",
    "    def __init__(self, name, age, id, mrn, address, phone, policy_number, insurance_company, insurance_phone):\n",
    "        self._name = name\n",
    "        self._age = age\n",
    "        self._id = id\n",
    "        self._mrn = mrn\n",
    "        self._address = address\n",
    "        self._phone = phone\n",
    "        self._policy_number = policy_number\n",
    "        self._insurance_company = insurance_company\n",
    "        self._insurance_phone = insurance_phone\n",
    "    "
   ]
  },
  {
   "cell_type": "markdown",
   "id": "08f2b3c4",
   "metadata": {},
   "source": [
    "### Inheritance"
   ]
  },
  {
   "cell_type": "markdown",
   "id": "14fed9fd",
   "metadata": {},
   "source": [
    "Write a class that inherits from another"
   ]
  },
  {
   "cell_type": "code",
   "execution_count": 10,
   "id": "a95d5a4d",
   "metadata": {},
   "outputs": [],
   "source": [
    "class MedicalProcedure:\n",
    "    def __init__(self, procedure_name: str, system: str, organ: str, outcome: Optional[str] = None):\n",
    "        self.procedure_name = procedure_name\n",
    "        self.system = system\n",
    "        self.organ = organ\n",
    "        self.outcome = outcome\n",
    "    \n",
    "    def __str__(self):\n",
    "        return f\"Name: {self.procedure_name}\\nSystem: {self.system}\\nOrgan: {self.organ}\\nOutcome: {self.outcome}\"\n",
    "\n",
    "class Imaging(MedicalProcedure):\n",
    "    def __init__(self, procedure_name: str, system: str, organ: str, imaging_type: str, facility: Optional[str] = None, outcome: Optional[str] = None):\n",
    "        super().__init__(procedure_name, system, organ, outcome)\n",
    "        \n",
    "        self.imaging_type = imaging_type\n",
    "        self.facility = facility\n",
    "    \n",
    "    def print_imaging_type(self):\n",
    "        print(f'Imaging type: {self.imaging_type}')\n",
    "    \n",
    "    def print_facility(self):\n",
    "        print(f'Facility: {self.facility}')  "
   ]
  },
  {
   "cell_type": "code",
   "execution_count": 11,
   "id": "a8eeabe5",
   "metadata": {},
   "outputs": [
    {
     "name": "stdout",
     "output_type": "stream",
     "text": [
      "Name: spinal surgery\n",
      "System: nervous, skeletal\n",
      "Organ: spine\n",
      "Outcome: successful\n"
     ]
    }
   ],
   "source": [
    "spinal_surgery = MedicalProcedure(procedure_name='spinal surgery', system='nervous, skeletal', organ='spine', outcome='successful')\n",
    "print(spinal_surgery)"
   ]
  },
  {
   "cell_type": "code",
   "execution_count": 12,
   "id": "444a5739",
   "metadata": {},
   "outputs": [
    {
     "name": "stdout",
     "output_type": "stream",
     "text": [
      "Name: Doppler Echocardiogram\n",
      "System: Cardiovascular\n",
      "Organ: Heart\n",
      "Outcome: None\n",
      "Imaging type: Echocardiography\n",
      "Facility: Heart Clinic\n"
     ]
    }
   ],
   "source": [
    "echocardiogram = Imaging(procedure_name='Doppler Echocardiogram', system='Cardiovascular', organ='Heart', imaging_type='Echocardiography', facility='Heart Clinic')\n",
    "print(echocardiogram)\n",
    "echocardiogram.print_imaging_type()\n",
    "echocardiogram.print_facility()"
   ]
  },
  {
   "cell_type": "markdown",
   "id": "21da3399",
   "metadata": {},
   "source": [
    "### Polymorphism"
   ]
  },
  {
   "cell_type": "markdown",
   "id": "ad7d0801",
   "metadata": {},
   "source": [
    "Take one of the methods you implemented in the base class. Rewrite it in the subclass class."
   ]
  },
  {
   "cell_type": "code",
   "execution_count": 13,
   "id": "8ecd49a9",
   "metadata": {},
   "outputs": [],
   "source": [
    "class Imaging(MedicalProcedure):\n",
    "    def __init__(self, procedure_name: str, system: str, organ: str, imaging_type: str, facility: Optional[str] = None, outcome: Optional[str] = None):\n",
    "        super().__init__(procedure_name, system, organ, outcome)\n",
    "        \n",
    "        self.imaging_type = imaging_type\n",
    "        self.facility = facility\n",
    "    \n",
    "    def __str__(self):\n",
    "        return f\"Name: {self.procedure_name}\\nSystem: {self.system}\\nOrgan: {self.organ}\\nOutcome: {self.outcome}\\nImaging type: {self.imaging_type}\\nFacility: {self.facility}\""
   ]
  },
  {
   "cell_type": "code",
   "execution_count": 14,
   "id": "a3a2e747",
   "metadata": {},
   "outputs": [
    {
     "name": "stdout",
     "output_type": "stream",
     "text": [
      "Name: Doppler Echocardiogram\n",
      "System: Cardiovascular\n",
      "Organ: Heart\n",
      "Outcome: None\n",
      "Imaging type: Echocardiography\n",
      "Facility: Heart Clinic\n"
     ]
    }
   ],
   "source": [
    "echocardiogram = Imaging(procedure_name='Doppler Echocardiogram', system='Cardiovascular', organ='Heart', imaging_type='Echocardiography', facility='Heart Clinic')\n",
    "print(echocardiogram)"
   ]
  },
  {
   "cell_type": "markdown",
   "id": "286faccd",
   "metadata": {},
   "source": [
    "## Class vs Instance Methods"
   ]
  },
  {
   "cell_type": "markdown",
   "id": "2f2a4122",
   "metadata": {},
   "source": [
    "Write a class with 2 methods. One that only affects an instance, and one that affects the entire class."
   ]
  },
  {
   "cell_type": "code",
   "execution_count": 47,
   "id": "a7f41d99",
   "metadata": {},
   "outputs": [],
   "source": [
    "import pandas as pd\n",
    "import numpy as np\n",
    "\n",
    "class Result:\n",
    "        \n",
    "    def __init__(self):\n",
    "        pass\n",
    "        \n",
    "    def fetch_results(self, result_type: str, results_df: pd.DataFrame):\n",
    "        self.result_type = result_type\n",
    "        self.results_df = results_df\n",
    "        \n",
    "        # Raise an exception if results_df is not a DataFrame\n",
    "        if not isinstance(results_df, pd.DataFrame):\n",
    "            raise ValueError('results_df should be a DataFrame')\n",
    "        \n",
    "        # Raise an exception if the DataFrame is empty\n",
    "        if results_df.empty:\n",
    "            raise ValueError('results_df should not be empty')\n",
    "        \n",
    "    def show_results(self, all_results: bool = False, n_results: Optional[int] = None):\n",
    "        try:\n",
    "            if all_results:\n",
    "                return self.results_df\n",
    "            elif n_results:\n",
    "                return self.results_df.head(n_results)\n",
    "            else:\n",
    "                return self.results_df.head()\n",
    "        except Exception:\n",
    "            print('Invalid input')\n",
    "            \n",
    "\n",
    "class LabTest:\n",
    "    \n",
    "    lab_tests = set()\n",
    "    \n",
    "    def __init__(self, test_name: str):\n",
    "        self.test_name = test_name\n",
    "        self.results = Result()\n",
    "        \n",
    "    def __str__(self):\n",
    "        return f\"Test Name: {self.test_name}\\nTest Type: {self.results.result_type}\\n\"\n",
    "    \n",
    "    # Class method to add a new lab test to the list of lab tests\n",
    "    @classmethod\n",
    "    def add_lab_test(cls, test_name: str):\n",
    "        try:\n",
    "            if test_name not in cls.lab_tests:\n",
    "                cls.lab_tests.add(test_name)\n",
    "                print('New lab test added to the list of lab tests')\n",
    "            else:\n",
    "                print('Lab test already in the list of lab tests')\n",
    "            \n",
    "        except Exception as e:\n",
    "            print('Invalid input')\n",
    "\n",
    "    # Class method to remove a lab test from the list of lab tests\n",
    "    @classmethod\n",
    "    def remove_lab_test(cls, test_name: str):\n",
    "        try:\n",
    "            if test_name in cls.lab_tests:\n",
    "                cls.lab_tests.remove(test_name)\n",
    "                print('Lab test removed from the list of lab tests')\n",
    "            else:\n",
    "                print('Test does not exist in the list of lab tests')\n",
    "            \n",
    "        except Exception as e:\n",
    "            print('Invalid input')\n",
    "    \n",
    "    @classmethod\n",
    "    def show_lab_tests(cls):\n",
    "        print(', '.join(cls.lab_tests))\n",
    "    \n",
    "\n",
    "    def add_new_result(self, new_result: pd.Series):\n",
    "        try:\n",
    "            self.results = self.results.results_df.append(new_result, ignore_index=True)\n",
    "            \n",
    "        except Exception as e:\n",
    "            print('Invalid input')\n",
    "    \n",
    "    def remove_result(self, index: int):\n",
    "        \n",
    "        # Numerical position of the row\n",
    "        if isinstance(index, int):\n",
    "            index = self.results_df.index[index]\n",
    "        \n",
    "        # Label of the row index\n",
    "        if isinstance(index, str):\n",
    "            index = self.results_df.index.get_loc(index)\n",
    "            \n",
    "        try:\n",
    "            self.results = self.results.results_df.drop(index, axis=0)\n",
    "            \n",
    "        except Exception as e:\n",
    "            print('Invalid input')          "
   ]
  },
  {
   "cell_type": "code",
   "execution_count": 36,
   "id": "844da68d",
   "metadata": {},
   "outputs": [
    {
     "data": {
      "text/html": [
       "<div>\n",
       "<style scoped>\n",
       "    .dataframe tbody tr th:only-of-type {\n",
       "        vertical-align: middle;\n",
       "    }\n",
       "\n",
       "    .dataframe tbody tr th {\n",
       "        vertical-align: top;\n",
       "    }\n",
       "\n",
       "    .dataframe thead th {\n",
       "        text-align: right;\n",
       "    }\n",
       "</style>\n",
       "<table border=\"1\" class=\"dataframe\">\n",
       "  <thead>\n",
       "    <tr style=\"text-align: right;\">\n",
       "      <th></th>\n",
       "      <th>Glucose</th>\n",
       "      <th>BUN</th>\n",
       "      <th>Creatinine</th>\n",
       "      <th>Sodium</th>\n",
       "      <th>Potassium</th>\n",
       "    </tr>\n",
       "  </thead>\n",
       "  <tbody>\n",
       "    <tr>\n",
       "      <th>2021-01-01</th>\n",
       "      <td>90.0</td>\n",
       "      <td>10.0</td>\n",
       "      <td>0.8</td>\n",
       "      <td>140.0</td>\n",
       "      <td>4.0</td>\n",
       "    </tr>\n",
       "    <tr>\n",
       "      <th>2021-02-01</th>\n",
       "      <td>95.0</td>\n",
       "      <td>11.0</td>\n",
       "      <td>0.9</td>\n",
       "      <td>141.0</td>\n",
       "      <td>4.1</td>\n",
       "    </tr>\n",
       "    <tr>\n",
       "      <th>2021-03-01</th>\n",
       "      <td>100.0</td>\n",
       "      <td>12.0</td>\n",
       "      <td>1.0</td>\n",
       "      <td>142.0</td>\n",
       "      <td>4.2</td>\n",
       "    </tr>\n",
       "    <tr>\n",
       "      <th>2021-04-01</th>\n",
       "      <td>105.0</td>\n",
       "      <td>13.0</td>\n",
       "      <td>1.1</td>\n",
       "      <td>143.0</td>\n",
       "      <td>4.3</td>\n",
       "    </tr>\n",
       "    <tr>\n",
       "      <th>2021-05-01</th>\n",
       "      <td>110.0</td>\n",
       "      <td>14.0</td>\n",
       "      <td>1.2</td>\n",
       "      <td>144.0</td>\n",
       "      <td>4.4</td>\n",
       "    </tr>\n",
       "    <tr>\n",
       "      <th>2021-06-01</th>\n",
       "      <td>115.0</td>\n",
       "      <td>15.0</td>\n",
       "      <td>1.3</td>\n",
       "      <td>145.0</td>\n",
       "      <td>4.5</td>\n",
       "    </tr>\n",
       "    <tr>\n",
       "      <th>2021-07-01</th>\n",
       "      <td>120.0</td>\n",
       "      <td>16.0</td>\n",
       "      <td>1.4</td>\n",
       "      <td>146.0</td>\n",
       "      <td>4.6</td>\n",
       "    </tr>\n",
       "    <tr>\n",
       "      <th>2021-08-01</th>\n",
       "      <td>125.0</td>\n",
       "      <td>17.0</td>\n",
       "      <td>1.5</td>\n",
       "      <td>147.0</td>\n",
       "      <td>4.7</td>\n",
       "    </tr>\n",
       "    <tr>\n",
       "      <th>2021-09-01</th>\n",
       "      <td>130.0</td>\n",
       "      <td>18.0</td>\n",
       "      <td>1.6</td>\n",
       "      <td>148.0</td>\n",
       "      <td>4.8</td>\n",
       "    </tr>\n",
       "    <tr>\n",
       "      <th>2021-10-01</th>\n",
       "      <td>135.0</td>\n",
       "      <td>19.0</td>\n",
       "      <td>1.7</td>\n",
       "      <td>149.0</td>\n",
       "      <td>4.9</td>\n",
       "    </tr>\n",
       "  </tbody>\n",
       "</table>\n",
       "</div>"
      ],
      "text/plain": [
       "            Glucose   BUN  Creatinine  Sodium  Potassium\n",
       "2021-01-01     90.0  10.0         0.8   140.0        4.0\n",
       "2021-02-01     95.0  11.0         0.9   141.0        4.1\n",
       "2021-03-01    100.0  12.0         1.0   142.0        4.2\n",
       "2021-04-01    105.0  13.0         1.1   143.0        4.3\n",
       "2021-05-01    110.0  14.0         1.2   144.0        4.4\n",
       "2021-06-01    115.0  15.0         1.3   145.0        4.5\n",
       "2021-07-01    120.0  16.0         1.4   146.0        4.6\n",
       "2021-08-01    125.0  17.0         1.5   147.0        4.7\n",
       "2021-09-01    130.0  18.0         1.6   148.0        4.8\n",
       "2021-10-01    135.0  19.0         1.7   149.0        4.9"
      ]
     },
     "execution_count": 36,
     "metadata": {},
     "output_type": "execute_result"
    }
   ],
   "source": [
    "# Create a dictionary that contains dictionaries with results of CMP lab tests that were done on 10 different dates\n",
    "cmp_results = {\n",
    "    '2021-01-01': {'Glucose': 90, 'BUN': 10, 'Creatinine': 0.8, 'Sodium': 140, 'Potassium': 4.0},\n",
    "    '2021-02-01': {'Glucose': 95, 'BUN': 11, 'Creatinine': 0.9, 'Sodium': 141, 'Potassium': 4.1},\n",
    "    '2021-03-01': {'Glucose': 100, 'BUN': 12, 'Creatinine': 1.0, 'Sodium': 142, 'Potassium': 4.2},\n",
    "    '2021-04-01': {'Glucose': 105, 'BUN': 13, 'Creatinine': 1.1, 'Sodium': 143, 'Potassium': 4.3},\n",
    "    '2021-05-01': {'Glucose': 110, 'BUN': 14, 'Creatinine': 1.2, 'Sodium': 144, 'Potassium': 4.4},\n",
    "    '2021-06-01': {'Glucose': 115, 'BUN': 15, 'Creatinine': 1.3, 'Sodium': 145, 'Potassium': 4.5},\n",
    "    '2021-07-01': {'Glucose': 120, 'BUN': 16, 'Creatinine': 1.4, 'Sodium': 146, 'Potassium': 4.6},\n",
    "    '2021-08-01': {'Glucose': 125, 'BUN': 17, 'Creatinine': 1.5, 'Sodium': 147, 'Potassium': 4.7},\n",
    "    '2021-09-01': {'Glucose': 130, 'BUN': 18, 'Creatinine': 1.6, 'Sodium': 148, 'Potassium': 4.8},\n",
    "    '2021-10-01': {'Glucose': 135, 'BUN': 19, 'Creatinine': 1.7, 'Sodium': 149, 'Potassium': 4.9}\n",
    "} \n",
    "\n",
    "# Convert the dictionary to a DataFrame with the keys as the index\n",
    "cmp_results_df = pd.DataFrame(cmp_results).T\n",
    "\n",
    "# Create an instance of the Result class\n",
    "cmp_results = Result(result_type='CMP', results_df=cmp_results_df)\n",
    "\n",
    "# Show the results\n",
    "cmp_results.show_results(all_results=True)"
   ]
  },
  {
   "cell_type": "code",
   "execution_count": 37,
   "id": "efcfce7e",
   "metadata": {},
   "outputs": [
    {
     "data": {
      "text/html": [
       "<div>\n",
       "<style scoped>\n",
       "    .dataframe tbody tr th:only-of-type {\n",
       "        vertical-align: middle;\n",
       "    }\n",
       "\n",
       "    .dataframe tbody tr th {\n",
       "        vertical-align: top;\n",
       "    }\n",
       "\n",
       "    .dataframe thead th {\n",
       "        text-align: right;\n",
       "    }\n",
       "</style>\n",
       "<table border=\"1\" class=\"dataframe\">\n",
       "  <thead>\n",
       "    <tr style=\"text-align: right;\">\n",
       "      <th></th>\n",
       "      <th>Glucose</th>\n",
       "      <th>BUN</th>\n",
       "      <th>Creatinine</th>\n",
       "      <th>Sodium</th>\n",
       "      <th>Potassium</th>\n",
       "    </tr>\n",
       "  </thead>\n",
       "  <tbody>\n",
       "    <tr>\n",
       "      <th>2021-01-01</th>\n",
       "      <td>90.0</td>\n",
       "      <td>10.0</td>\n",
       "      <td>0.8</td>\n",
       "      <td>140.0</td>\n",
       "      <td>4.0</td>\n",
       "    </tr>\n",
       "    <tr>\n",
       "      <th>2021-02-01</th>\n",
       "      <td>95.0</td>\n",
       "      <td>11.0</td>\n",
       "      <td>0.9</td>\n",
       "      <td>141.0</td>\n",
       "      <td>4.1</td>\n",
       "    </tr>\n",
       "    <tr>\n",
       "      <th>2021-03-01</th>\n",
       "      <td>100.0</td>\n",
       "      <td>12.0</td>\n",
       "      <td>1.0</td>\n",
       "      <td>142.0</td>\n",
       "      <td>4.2</td>\n",
       "    </tr>\n",
       "    <tr>\n",
       "      <th>2021-04-01</th>\n",
       "      <td>105.0</td>\n",
       "      <td>13.0</td>\n",
       "      <td>1.1</td>\n",
       "      <td>143.0</td>\n",
       "      <td>4.3</td>\n",
       "    </tr>\n",
       "  </tbody>\n",
       "</table>\n",
       "</div>"
      ],
      "text/plain": [
       "            Glucose   BUN  Creatinine  Sodium  Potassium\n",
       "2021-01-01     90.0  10.0         0.8   140.0        4.0\n",
       "2021-02-01     95.0  11.0         0.9   141.0        4.1\n",
       "2021-03-01    100.0  12.0         1.0   142.0        4.2\n",
       "2021-04-01    105.0  13.0         1.1   143.0        4.3"
      ]
     },
     "execution_count": 37,
     "metadata": {},
     "output_type": "execute_result"
    }
   ],
   "source": [
    "# Show only 4 lines of the results\n",
    "cmp_results.show_results(n_results=4)"
   ]
  },
  {
   "cell_type": "code",
   "execution_count": 38,
   "id": "57ee0311",
   "metadata": {},
   "outputs": [
    {
     "data": {
      "text/html": [
       "<div>\n",
       "<style scoped>\n",
       "    .dataframe tbody tr th:only-of-type {\n",
       "        vertical-align: middle;\n",
       "    }\n",
       "\n",
       "    .dataframe tbody tr th {\n",
       "        vertical-align: top;\n",
       "    }\n",
       "\n",
       "    .dataframe thead th {\n",
       "        text-align: right;\n",
       "    }\n",
       "</style>\n",
       "<table border=\"1\" class=\"dataframe\">\n",
       "  <thead>\n",
       "    <tr style=\"text-align: right;\">\n",
       "      <th></th>\n",
       "      <th>Glucose</th>\n",
       "      <th>BUN</th>\n",
       "      <th>Creatinine</th>\n",
       "      <th>Sodium</th>\n",
       "      <th>Potassium</th>\n",
       "    </tr>\n",
       "  </thead>\n",
       "  <tbody>\n",
       "    <tr>\n",
       "      <th>2021-01-01</th>\n",
       "      <td>90.0</td>\n",
       "      <td>10.0</td>\n",
       "      <td>0.8</td>\n",
       "      <td>140.0</td>\n",
       "      <td>4.0</td>\n",
       "    </tr>\n",
       "    <tr>\n",
       "      <th>2021-02-01</th>\n",
       "      <td>95.0</td>\n",
       "      <td>11.0</td>\n",
       "      <td>0.9</td>\n",
       "      <td>141.0</td>\n",
       "      <td>4.1</td>\n",
       "    </tr>\n",
       "    <tr>\n",
       "      <th>2021-03-01</th>\n",
       "      <td>100.0</td>\n",
       "      <td>12.0</td>\n",
       "      <td>1.0</td>\n",
       "      <td>142.0</td>\n",
       "      <td>4.2</td>\n",
       "    </tr>\n",
       "    <tr>\n",
       "      <th>2021-04-01</th>\n",
       "      <td>105.0</td>\n",
       "      <td>13.0</td>\n",
       "      <td>1.1</td>\n",
       "      <td>143.0</td>\n",
       "      <td>4.3</td>\n",
       "    </tr>\n",
       "    <tr>\n",
       "      <th>2021-05-01</th>\n",
       "      <td>110.0</td>\n",
       "      <td>14.0</td>\n",
       "      <td>1.2</td>\n",
       "      <td>144.0</td>\n",
       "      <td>4.4</td>\n",
       "    </tr>\n",
       "  </tbody>\n",
       "</table>\n",
       "</div>"
      ],
      "text/plain": [
       "            Glucose   BUN  Creatinine  Sodium  Potassium\n",
       "2021-01-01     90.0  10.0         0.8   140.0        4.0\n",
       "2021-02-01     95.0  11.0         0.9   141.0        4.1\n",
       "2021-03-01    100.0  12.0         1.0   142.0        4.2\n",
       "2021-04-01    105.0  13.0         1.1   143.0        4.3\n",
       "2021-05-01    110.0  14.0         1.2   144.0        4.4"
      ]
     },
     "execution_count": 38,
     "metadata": {},
     "output_type": "execute_result"
    }
   ],
   "source": [
    "# Show the results without specifying how many lines\n",
    "cmp_results.show_results()"
   ]
  },
  {
   "cell_type": "code",
   "execution_count": 48,
   "id": "97d14a6e",
   "metadata": {},
   "outputs": [
    {
     "name": "stdout",
     "output_type": "stream",
     "text": [
      "New lab test added to the list of lab tests\n",
      "CMP\n",
      "Test Name: CMP\n",
      "Test Type: Blood Test\n",
      "\n"
     ]
    },
    {
     "data": {
      "text/html": [
       "<div>\n",
       "<style scoped>\n",
       "    .dataframe tbody tr th:only-of-type {\n",
       "        vertical-align: middle;\n",
       "    }\n",
       "\n",
       "    .dataframe tbody tr th {\n",
       "        vertical-align: top;\n",
       "    }\n",
       "\n",
       "    .dataframe thead th {\n",
       "        text-align: right;\n",
       "    }\n",
       "</style>\n",
       "<table border=\"1\" class=\"dataframe\">\n",
       "  <thead>\n",
       "    <tr style=\"text-align: right;\">\n",
       "      <th></th>\n",
       "      <th>Glucose</th>\n",
       "      <th>BUN</th>\n",
       "      <th>Creatinine</th>\n",
       "      <th>Sodium</th>\n",
       "      <th>Potassium</th>\n",
       "    </tr>\n",
       "  </thead>\n",
       "  <tbody>\n",
       "    <tr>\n",
       "      <th>2021-01-01</th>\n",
       "      <td>90.0</td>\n",
       "      <td>10.0</td>\n",
       "      <td>0.8</td>\n",
       "      <td>140.0</td>\n",
       "      <td>4.0</td>\n",
       "    </tr>\n",
       "    <tr>\n",
       "      <th>2021-02-01</th>\n",
       "      <td>95.0</td>\n",
       "      <td>11.0</td>\n",
       "      <td>0.9</td>\n",
       "      <td>141.0</td>\n",
       "      <td>4.1</td>\n",
       "    </tr>\n",
       "    <tr>\n",
       "      <th>2021-03-01</th>\n",
       "      <td>100.0</td>\n",
       "      <td>12.0</td>\n",
       "      <td>1.0</td>\n",
       "      <td>142.0</td>\n",
       "      <td>4.2</td>\n",
       "    </tr>\n",
       "    <tr>\n",
       "      <th>2021-04-01</th>\n",
       "      <td>105.0</td>\n",
       "      <td>13.0</td>\n",
       "      <td>1.1</td>\n",
       "      <td>143.0</td>\n",
       "      <td>4.3</td>\n",
       "    </tr>\n",
       "    <tr>\n",
       "      <th>2021-05-01</th>\n",
       "      <td>110.0</td>\n",
       "      <td>14.0</td>\n",
       "      <td>1.2</td>\n",
       "      <td>144.0</td>\n",
       "      <td>4.4</td>\n",
       "    </tr>\n",
       "    <tr>\n",
       "      <th>2021-06-01</th>\n",
       "      <td>115.0</td>\n",
       "      <td>15.0</td>\n",
       "      <td>1.3</td>\n",
       "      <td>145.0</td>\n",
       "      <td>4.5</td>\n",
       "    </tr>\n",
       "    <tr>\n",
       "      <th>2021-07-01</th>\n",
       "      <td>120.0</td>\n",
       "      <td>16.0</td>\n",
       "      <td>1.4</td>\n",
       "      <td>146.0</td>\n",
       "      <td>4.6</td>\n",
       "    </tr>\n",
       "    <tr>\n",
       "      <th>2021-08-01</th>\n",
       "      <td>125.0</td>\n",
       "      <td>17.0</td>\n",
       "      <td>1.5</td>\n",
       "      <td>147.0</td>\n",
       "      <td>4.7</td>\n",
       "    </tr>\n",
       "    <tr>\n",
       "      <th>2021-09-01</th>\n",
       "      <td>130.0</td>\n",
       "      <td>18.0</td>\n",
       "      <td>1.6</td>\n",
       "      <td>148.0</td>\n",
       "      <td>4.8</td>\n",
       "    </tr>\n",
       "    <tr>\n",
       "      <th>2021-10-01</th>\n",
       "      <td>135.0</td>\n",
       "      <td>19.0</td>\n",
       "      <td>1.7</td>\n",
       "      <td>149.0</td>\n",
       "      <td>4.9</td>\n",
       "    </tr>\n",
       "  </tbody>\n",
       "</table>\n",
       "</div>"
      ],
      "text/plain": [
       "            Glucose   BUN  Creatinine  Sodium  Potassium\n",
       "2021-01-01     90.0  10.0         0.8   140.0        4.0\n",
       "2021-02-01     95.0  11.0         0.9   141.0        4.1\n",
       "2021-03-01    100.0  12.0         1.0   142.0        4.2\n",
       "2021-04-01    105.0  13.0         1.1   143.0        4.3\n",
       "2021-05-01    110.0  14.0         1.2   144.0        4.4\n",
       "2021-06-01    115.0  15.0         1.3   145.0        4.5\n",
       "2021-07-01    120.0  16.0         1.4   146.0        4.6\n",
       "2021-08-01    125.0  17.0         1.5   147.0        4.7\n",
       "2021-09-01    130.0  18.0         1.6   148.0        4.8\n",
       "2021-10-01    135.0  19.0         1.7   149.0        4.9"
      ]
     },
     "execution_count": 48,
     "metadata": {},
     "output_type": "execute_result"
    }
   ],
   "source": [
    "# Create an instance of the LabTest class\n",
    "cmp_test = LabTest('CMP')\n",
    "\n",
    "# Fetch the results of the CMP lab test\n",
    "cmp_test.results.fetch_results('Blood Test', cmp_results_df)\n",
    "\n",
    "# Add the lab test to the set of lab tests\n",
    "cmp_test.add_lab_test(cmp_test.test_name)\n",
    "\n",
    "# Show the set of lab tests\n",
    "LabTest.show_lab_tests()\n",
    "\n",
    "# Show the lab test\n",
    "print(cmp_test)\n",
    "\n",
    "# Show the results of the lab test\n",
    "cmp_test.results.show_results(all_results=True)"
   ]
  },
  {
   "cell_type": "code",
   "execution_count": 52,
   "id": "4730be4a",
   "metadata": {},
   "outputs": [],
   "source": [
    "# Create a dictionary that contains dictionaries with results of CBC lab tests that were done on 10 different dates\n",
    "cbc_results = {\n",
    "    '2021-01-01': {'WBC': 5.0, 'RBC': 4.5, 'Hemoglobin': 14.0, 'Hematocrit': 42.0, 'Platelets': 150},\n",
    "    '2021-02-01': {'WBC': 5.1, 'RBC': 4.6, 'Hemoglobin': 14.1, 'Hematocrit': 42.1, 'Platelets': 151},\n",
    "    '2021-03-01': {'WBC': 5.2, 'RBC': 4.7, 'Hemoglobin': 14.2, 'Hematocrit': 42.2, 'Platelets': 152},\n",
    "    '2021-04-01': {'WBC': 5.3, 'RBC': 4.8, 'Hemoglobin': 14.3, 'Hematocrit': 42.3, 'Platelets': 153},\n",
    "    '2021-05-01': {'WBC': 5.4, 'RBC': 4.9, 'Hemoglobin': 14.4, 'Hematocrit': 42.4, 'Platelets': 154},\n",
    "    '2021-06-01': {'WBC': 5.5, 'RBC': 5.0, 'Hemoglobin': 14.5, 'Hematocrit': 42.5, 'Platelets': 155},\n",
    "    '2021-07-01': {'WBC': 5.6, 'RBC': 5.1, 'Hemoglobin': 14.6, 'Hematocrit': 42.6, 'Platelets': 156},\n",
    "    '2021-08-01': {'WBC': 5.7, 'RBC': 5.2, 'Hemoglobin': 14.7, 'Hematocrit': 42.7, 'Platelets': 157},\n",
    "    '2021-09-01': {'WBC': 5.8, 'RBC': 5.3, 'Hemoglobin': 14.8, 'Hematocrit': 42.8, 'Platelets': 158},\n",
    "    '2021-10-01': {'WBC': 5.9, 'RBC': 5.4, 'Hemoglobin': 14.9, 'Hematocrit': 42.9, 'Platelets': 159}\n",
    "}\n",
    "\n",
    "\n",
    "# Create a dictionary that contains dictionaries with results of uranalysis lab tests that were done on 10 different dates\n",
    "urinalysis_results = {\n",
    "    '2021-01-01': {'Color': 'Yellow', 'Appearance': 'Clear', 'Glucose': 'Negative', 'Protein': 'Negative', 'Ketones': 'Negative'},\n",
    "    '2021-02-01': {'Color': 'Yellow', 'Appearance': 'Clear', 'Glucose': 'Negative', 'Protein': 'Negative', 'Ketones': 'Negative'},\n",
    "    '2021-03-01': {'Color': 'Yellow', 'Appearance': 'Clear', 'Glucose': 'Negative', 'Protein': 'Negative', 'Ketones': 'Negative'},\n",
    "    '2021-04-01': {'Color': 'Yellow', 'Appearance': 'Clear', 'Glucose': 'Negative', 'Protein': 'Negative', 'Ketones': 'Negative'},\n",
    "    '2021-05-01': {'Color': 'Yellow', 'Appearance': 'Clear', 'Glucose': 'Negative', 'Protein': 'Negative', 'Ketones': 'Negative'},\n",
    "    '2021-06-01': {'Color': 'Yellow', 'Appearance': 'Clear', 'Glucose': 'Negative', 'Protein': 'Negative', 'Ketones': 'Negative'},\n",
    "    '2021-07-01': {'Color': 'Yellow', 'Appearance': 'Clear', 'Glucose': 'Negative', 'Protein': 'Negative', 'Ketones': 'Negative'},\n",
    "    '2021-08-01': {'Color': 'Yellow', 'Appearance': 'Clear', 'Glucose': 'Negative', 'Protein': 'Negative', 'Ketones': 'Negative'},\n",
    "    '2021-09-01': {'Color': 'Yellow', 'Appearance': 'Clear', 'Glucose': 'Negative', 'Protein': 'Negative', 'Ketones': 'Negative'},\n",
    "    '2021-10-01': {'Color': 'Yellow', 'Appearance': 'Clear', 'Glucose': 'Negative', 'Protein': 'Negative', 'Ketones': 'Negative'}\n",
    "}\n",
    "\n",
    "# Create a dictionary that contains dictionaries with results of lipid panel lab tests that were done on 10 different dates\n",
    "lipid_panel_results = {\n",
    "    '2021-01-01': {'Total Cholesterol': 200, 'Triglycerides': 150, 'HDL': 50, 'LDL': 100},\n",
    "    '2021-02-01': {'Total Cholesterol': 201, 'Triglycerides': 151, 'HDL': 51, 'LDL': 101},\n",
    "    '2021-03-01': {'Total Cholesterol': 202, 'Triglycerides': 152, 'HDL': 52, 'LDL': 102},\n",
    "    '2021-04-01': {'Total Cholesterol': 203, 'Triglycerides': 153, 'HDL': 53, 'LDL': 103},\n",
    "    '2021-05-01': {'Total Cholesterol': 204, 'Triglycerides': 154, 'HDL': 54, 'LDL': 104},\n",
    "    '2021-06-01': {'Total Cholesterol': 205, 'Triglycerides': 155, 'HDL': 55, 'LDL': 105},\n",
    "    '2021-07-01': {'Total Cholesterol': 206, 'Triglycerides': 156, 'HDL': 56, 'LDL': 106},\n",
    "    '2021-08-01': {'Total Cholesterol': 207, 'Triglycerides': 157, 'HDL': 57, 'LDL': 107},\n",
    "    '2021-09-01': {'Total Cholesterol': 208, 'Triglycerides': 158, 'HDL': 58, 'LDL': 108},\n",
    "    '2021-10-01': {'Total Cholesterol': 209, 'Triglycerides': 159, 'HDL': 59, 'LDL': 109}\n",
    "}\n",
    "\n",
    "# Create a dictionary that contains dictionaries with results of thyroid panel lab tests that were done on 10 different dates\n",
    "thyroid_panel_results = {\n",
    "    '2021-01-01': {'TSH': 1.0, 'T3': 2.0, 'T4': 3.0},\n",
    "    '2021-02-01': {'TSH': 1.1, 'T3': 2.1, 'T4': 3.1},\n",
    "    '2021-03-01': {'TSH': 1.2, 'T3': 2.2, 'T4': 3.2},\n",
    "    '2021-04-01': {'TSH': 1.3, 'T3': 2.3, 'T4': 3.3},\n",
    "    '2021-05-01': {'TSH': 1.4, 'T3': 2.4, 'T4': 3.4},\n",
    "    '2021-06-01': {'TSH': 1.5, 'T3': 2.5, 'T4': 3.5},\n",
    "    '2021-07-01': {'TSH': 1.6, 'T3': 2.6, 'T4': 3.6},\n",
    "    '2021-08-01': {'TSH': 1.7, 'T3': 2.7, 'T4': 3.7},\n",
    "    '2021-09-01': {'TSH': 1.8, 'T3': 2.8, 'T4': 3.8},\n",
    "    '2021-10-01': {'TSH': 1.9, 'T3': 2.9, 'T4': 3.9}\n",
    "}\n",
    "\n",
    "various_lab_tests = {'CBC': cbc_results, 'Urinanalysis': urinalysis_results, 'Lipid Panel': lipid_panel_results, 'Thyroid Panel': thyroid_panel_results}\n",
    "\n",
    "# Convert the dictionaries to DataFrames with the keys as the index\n",
    "for lab_test, results in various_lab_tests.items():\n",
    "    various_lab_tests[lab_test] = pd.DataFrame(results).T"
   ]
  },
  {
   "cell_type": "code",
   "execution_count": 56,
   "id": "6b2fb52b",
   "metadata": {},
   "outputs": [
    {
     "name": "stdout",
     "output_type": "stream",
     "text": [
      "Lab test already in the list of lab tests\n",
      "Lipid Panel, Urinanalysis, CBC, CMP, Thyroid Panel\n",
      "Test Name: CBC\n",
      "Test Type: Blood Test\n",
      "\n",
      "            WBC  RBC  Hemoglobin  Hematocrit  Platelets\n",
      "2021-01-01  5.0  4.5        14.0        42.0      150.0\n",
      "2021-02-01  5.1  4.6        14.1        42.1      151.0\n",
      "2021-03-01  5.2  4.7        14.2        42.2      152.0\n",
      "2021-04-01  5.3  4.8        14.3        42.3      153.0\n",
      "2021-05-01  5.4  4.9        14.4        42.4      154.0\n",
      "Lab test already in the list of lab tests\n",
      "Lipid Panel, Urinanalysis, CBC, CMP, Thyroid Panel\n",
      "Test Name: Urinanalysis\n",
      "Test Type: Blood Test\n",
      "\n",
      "             Color Appearance   Glucose   Protein   Ketones\n",
      "2021-01-01  Yellow      Clear  Negative  Negative  Negative\n",
      "2021-02-01  Yellow      Clear  Negative  Negative  Negative\n",
      "2021-03-01  Yellow      Clear  Negative  Negative  Negative\n",
      "2021-04-01  Yellow      Clear  Negative  Negative  Negative\n",
      "2021-05-01  Yellow      Clear  Negative  Negative  Negative\n",
      "Lab test already in the list of lab tests\n",
      "Lipid Panel, Urinanalysis, CBC, CMP, Thyroid Panel\n",
      "Test Name: Lipid Panel\n",
      "Test Type: Blood Test\n",
      "\n",
      "            Total Cholesterol  Triglycerides  HDL  LDL\n",
      "2021-01-01                200            150   50  100\n",
      "2021-02-01                201            151   51  101\n",
      "2021-03-01                202            152   52  102\n",
      "2021-04-01                203            153   53  103\n",
      "2021-05-01                204            154   54  104\n",
      "Lab test already in the list of lab tests\n",
      "Lipid Panel, Urinanalysis, CBC, CMP, Thyroid Panel\n",
      "Test Name: Thyroid Panel\n",
      "Test Type: Blood Test\n",
      "\n",
      "            TSH   T3   T4\n",
      "2021-01-01  1.0  2.0  3.0\n",
      "2021-02-01  1.1  2.1  3.1\n",
      "2021-03-01  1.2  2.2  3.2\n",
      "2021-04-01  1.3  2.3  3.3\n",
      "2021-05-01  1.4  2.4  3.4\n"
     ]
    }
   ],
   "source": [
    "# Create instances of lab tests\n",
    "for lab_test, results in various_lab_tests.items():\n",
    "    lab_test = LabTest(lab_test)\n",
    "    lab_test.results.fetch_results('Blood Test', results)\n",
    "    lab_test.add_lab_test(lab_test.test_name)\n",
    "    lab_test.show_lab_tests()\n",
    "    print(lab_test)\n",
    "    print(lab_test.results.show_results())"
   ]
  }
 ],
 "metadata": {
  "kernelspec": {
   "display_name": "Python 3",
   "language": "python",
   "name": "python3"
  },
  "language_info": {
   "codemirror_mode": {
    "name": "ipython",
    "version": 3
   },
   "file_extension": ".py",
   "mimetype": "text/x-python",
   "name": "python",
   "nbconvert_exporter": "python",
   "pygments_lexer": "ipython3",
   "version": "3.11.3"
  }
 },
 "nbformat": 4,
 "nbformat_minor": 5
}
