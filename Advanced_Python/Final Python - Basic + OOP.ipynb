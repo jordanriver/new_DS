{
 "cells": [
  {
   "cell_type": "markdown",
   "id": "92e1d2f4",
   "metadata": {},
   "source": [
    "# Basic Python"
   ]
  },
  {
   "cell_type": "markdown",
   "id": "1c6f8d64",
   "metadata": {},
   "source": [
    "## Data Structures"
   ]
  },
  {
   "cell_type": "markdown",
   "id": "defc5e69",
   "metadata": {},
   "source": [
    "What is the following code going to print in each case? (uncomment the code to see it with helpful colors, but don't run it so you dont see the answer)"
   ]
  },
  {
   "cell_type": "code",
   "execution_count": 2,
   "id": "92e5f2dc",
   "metadata": {},
   "outputs": [],
   "source": [
    "answer = None"
   ]
  },
  {
   "cell_type": "code",
   "execution_count": 3,
   "id": "12a4f7f5",
   "metadata": {},
   "outputs": [
    {
     "name": "stdout",
     "output_type": "stream",
     "text": [
      "Havent got it\n"
     ]
    }
   ],
   "source": [
    "# if answer:\n",
    "#     print('Got it')\n",
    "# else:\n",
    "#     print('Havent got it')"
   ]
  },
  {
   "cell_type": "code",
   "execution_count": 4,
   "id": "17626ea4",
   "metadata": {},
   "outputs": [
    {
     "name": "stdout",
     "output_type": "stream",
     "text": [
      "havent got it \n"
     ]
    }
   ],
   "source": [
    "# num = 0\n",
    "# if num:\n",
    "#     print('Got it')\n",
    "# else:\n",
    "#     print('havent got it ')"
   ]
  },
  {
   "cell_type": "markdown",
   "id": "1667266c",
   "metadata": {},
   "source": [
    "### Answers:\n",
    "1. The above code is going too print 'Havn't got it', since 'None' is handled by python as False.\n",
    "2. The above code is going too print 'Havn't got it', since '0' is handled by python as False."
   ]
  },
  {
   "cell_type": "markdown",
   "id": "6a19ec58",
   "metadata": {},
   "source": [
    "## Functions"
   ]
  },
  {
   "cell_type": "markdown",
   "id": "26aa9c4a",
   "metadata": {},
   "source": [
    "1. What is the value of res?\n",
    "2. What does the sum_ function return?\n",
    "3. Are the two answers in 1 and 2 necessarily the same?"
   ]
  },
  {
   "cell_type": "code",
   "execution_count": 6,
   "id": "b54128cf",
   "metadata": {},
   "outputs": [],
   "source": [
    "def sum_(a,b):\n",
    "    ans = a+b\n",
    "    return ans"
   ]
  },
  {
   "cell_type": "code",
   "execution_count": 9,
   "id": "fcbbfb43",
   "metadata": {},
   "outputs": [],
   "source": [
    "res = sum_(a,b)"
   ]
  },
  {
   "cell_type": "markdown",
   "id": "9c9c7385",
   "metadata": {},
   "source": [
    "### Answers:\n",
    "1. The value of res is 3.\n",
    "2. The sum function returns a sum of the values or the its arguments 'a' and 'b'.\n",
    "3. The two answers in 1 and 2 aren't necessarily the same, because we can assign different values to 'a' and 'b' and the value of res will change accordingly."
   ]
  },
  {
   "cell_type": "markdown",
   "id": "bd95e5bf",
   "metadata": {},
   "source": [
    "## Loops"
   ]
  },
  {
   "cell_type": "markdown",
   "id": "3c9543a0",
   "metadata": {},
   "source": [
    "Write a function that calculates a factorial using a loop. \n",
    "For example, the function will receive the number 4 and return 24 (4*3*2*1)."
   ]
  },
  {
   "cell_type": "code",
   "execution_count": null,
   "id": "e3475b29",
   "metadata": {},
   "outputs": [],
   "source": [
    "def calculate_factorial(num):\n",
    "    num = int(input(\"Number: \"))\n",
    "    \n",
    "    try:\n",
    "        factorial_numbers = "
   ]
  },
  {
   "cell_type": "markdown",
   "id": "76928291",
   "metadata": {},
   "source": [
    "## Importing Code"
   ]
  },
  {
   "cell_type": "markdown",
   "id": "6abd8aac",
   "metadata": {},
   "source": [
    "Why do we sometimes see people writing:\n",
    "if __name__ == \"__main__\"\n",
    "In what case would that be useful?"
   ]
  },
  {
   "cell_type": "markdown",
   "id": "b9bd6b7c",
   "metadata": {},
   "source": [
    "### Answer:\n",
    "People sometime use the if __name__ == '__main__' block so that the code will execute only when the python file is run as a script. This is useful when you want to allow for the python file to be run as a script (a whole program)  and to also allow it to be imported as a module. For example, if you write a program to solve some problem that uses various function and classes, you might want to reuse these functions and modules again for a different program / problem."
   ]
  },
  {
   "cell_type": "markdown",
   "id": "c2e80a65",
   "metadata": {},
   "source": [
    "## Handling Files"
   ]
  },
  {
   "cell_type": "markdown",
   "id": "a671534f",
   "metadata": {},
   "source": [
    "When reading a file we might want to use the with keyword, e.g:"
   ]
  },
  {
   "cell_type": "code",
   "execution_count": 57,
   "id": "2cb28173",
   "metadata": {},
   "outputs": [],
   "source": [
    "with open(file_path, 'r') as f:\n",
    "    print(f.readlines())"
   ]
  },
  {
   "cell_type": "markdown",
   "id": "75b0a035",
   "metadata": {},
   "source": [
    "Why use with? how does it help?"
   ]
  },
  {
   "cell_type": "markdown",
   "id": "48620dfc",
   "metadata": {},
   "source": [
    "### Answer:\n"
   ]
  },
  {
   "cell_type": "markdown",
   "id": "f6a95e1e",
   "metadata": {},
   "source": [
    "# OOP"
   ]
  },
  {
   "cell_type": "markdown",
   "id": "686fea92",
   "metadata": {},
   "source": [
    "## OOP 3 Principles"
   ]
  },
  {
   "cell_type": "markdown",
   "id": "966c7122",
   "metadata": {},
   "source": [
    "### Encapsulation"
   ]
  },
  {
   "cell_type": "markdown",
   "id": "4b1602dc",
   "metadata": {},
   "source": [
    "Write a class that uses encapsulation. Use a protected variable and a method that uses that protected variable. The method can either change the variable (after some validation) or just return it"
   ]
  },
  {
   "cell_type": "markdown",
   "id": "08f2b3c4",
   "metadata": {},
   "source": [
    "### Inheritance"
   ]
  },
  {
   "cell_type": "markdown",
   "id": "14fed9fd",
   "metadata": {},
   "source": [
    "Write a class that inherits from another"
   ]
  },
  {
   "cell_type": "code",
   "execution_count": null,
   "id": "a95d5a4d",
   "metadata": {},
   "outputs": [],
   "source": [
    "class MedicalProcedure:\n",
    "    def __init__(self, name, system, organ, outcome=None):\n",
    "        name = self.name\n",
    "        system = self.system\n",
    "        organ = self.organ\n",
    "        outcome = self.outcome\n",
    "    \n",
    "    def __str__(self):\n",
    "        return f\"Name: {self.name}\\nSystem: {self.system}\\nOrgan: {self.organ}\\nOutcome: {self.outcome}\"\n",
    "\n",
    "class Imaging(MedicalProcedure):\n",
    "    def __init__(self, type):\n",
    "        super().__init__    "
   ]
  },
  {
   "cell_type": "markdown",
   "id": "21da3399",
   "metadata": {},
   "source": [
    "### Polymorphism"
   ]
  },
  {
   "cell_type": "markdown",
   "id": "ad7d0801",
   "metadata": {},
   "source": [
    "Take one of the methods you implemented in the base class. Rewrite it in the subclass class."
   ]
  },
  {
   "cell_type": "markdown",
   "id": "286faccd",
   "metadata": {},
   "source": [
    "## Class vs Instance Methods"
   ]
  },
  {
   "cell_type": "markdown",
   "id": "2f2a4122",
   "metadata": {},
   "source": [
    "Write a class with 2 methods. One that only affects an instance, and one that affects the entire class."
   ]
  }
 ],
 "metadata": {
  "kernelspec": {
   "display_name": "Python 3",
   "language": "python",
   "name": "python3"
  },
  "language_info": {
   "codemirror_mode": {
    "name": "ipython",
    "version": 3
   },
   "file_extension": ".py",
   "mimetype": "text/x-python",
   "name": "python",
   "nbconvert_exporter": "python",
   "pygments_lexer": "ipython3",
   "version": "3.11.3"
  }
 },
 "nbformat": 4,
 "nbformat_minor": 5
}
