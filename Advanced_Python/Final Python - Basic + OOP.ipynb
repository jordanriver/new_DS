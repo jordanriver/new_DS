{
 "cells": [
  {
   "cell_type": "markdown",
   "id": "92e1d2f4",
   "metadata": {},
   "source": [
    "# Basic Python"
   ]
  },
  {
   "cell_type": "code",
   "execution_count": 1,
   "id": "069e5a84",
   "metadata": {},
   "outputs": [],
   "source": [
    "from typing import Optional, List, Tuple, Union, Any, Callable, Set, Dict"
   ]
  },
  {
   "cell_type": "markdown",
   "id": "1c6f8d64",
   "metadata": {},
   "source": [
    "## Data Structures"
   ]
  },
  {
   "cell_type": "markdown",
   "id": "defc5e69",
   "metadata": {},
   "source": [
    "What is the following code going to print in each case? (uncomment the code to see it with helpful colors, but don't run it so you dont see the answer)"
   ]
  },
  {
   "cell_type": "code",
   "execution_count": 2,
   "id": "92e5f2dc",
   "metadata": {},
   "outputs": [],
   "source": [
    "answer = None"
   ]
  },
  {
   "cell_type": "code",
   "execution_count": 3,
   "id": "12a4f7f5",
   "metadata": {},
   "outputs": [],
   "source": [
    "# if answer:\n",
    "#     print('Got it')\n",
    "# else:\n",
    "#     print('Havent got it')"
   ]
  },
  {
   "cell_type": "code",
   "execution_count": 4,
   "id": "17626ea4",
   "metadata": {},
   "outputs": [],
   "source": [
    "# num = 0\n",
    "# if num:\n",
    "#     print('Got it')\n",
    "# else:\n",
    "#     print('havent got it ')"
   ]
  },
  {
   "cell_type": "markdown",
   "id": "1667266c",
   "metadata": {},
   "source": [
    "### Answers:\n",
    "1. The above code is going too print 'Havn't got it', since 'None' is handled by python as False.\n",
    "2. The above code is going too print 'Havn't got it', since '0' is handled by python as False."
   ]
  },
  {
   "cell_type": "markdown",
   "id": "6a19ec58",
   "metadata": {},
   "source": [
    "## Functions"
   ]
  },
  {
   "cell_type": "markdown",
   "id": "26aa9c4a",
   "metadata": {},
   "source": [
    "1. What is the value of res?\n",
    "2. What does the sum_ function return?\n",
    "3. Are the two answers in 1 and 2 necessarily the same?"
   ]
  },
  {
   "cell_type": "code",
   "execution_count": 5,
   "id": "b54128cf",
   "metadata": {},
   "outputs": [],
   "source": [
    "def sum_(a,b):\n",
    "    ans = a+b\n",
    "    return ans"
   ]
  },
  {
   "cell_type": "code",
   "execution_count": 6,
   "id": "fcbbfb43",
   "metadata": {},
   "outputs": [
    {
     "data": {
      "text/plain": [
       "3"
      ]
     },
     "execution_count": 6,
     "metadata": {},
     "output_type": "execute_result"
    }
   ],
   "source": [
    "res = sum_(1,2)\n",
    "res"
   ]
  },
  {
   "cell_type": "markdown",
   "id": "9c9c7385",
   "metadata": {},
   "source": [
    "### Answers:\n",
    "1. The value of res is 3.\n",
    "2. The sum function returns a sum of the values or the its arguments 'a' and 'b'.\n",
    "3. The two answers in 1 and 2 aren't necessarily the same, because we can assign different values to 'a' and 'b' and the value of res will change accordingly."
   ]
  },
  {
   "cell_type": "markdown",
   "id": "bd95e5bf",
   "metadata": {},
   "source": [
    "## Loops"
   ]
  },
  {
   "cell_type": "markdown",
   "id": "3c9543a0",
   "metadata": {},
   "source": [
    "Write a function that calculates a factorial using a loop. \n",
    "For example, the function will receive the number 4 and return 24 (4*3*2*1)."
   ]
  },
  {
   "cell_type": "code",
   "execution_count": 7,
   "id": "e3475b29",
   "metadata": {},
   "outputs": [],
   "source": [
    "def calculate_factorial(factorial):\n",
    "    base = 1\n",
    "    product = 1\n",
    "    try:\n",
    "        while base < factorial:\n",
    "            product *= (base + 1)\n",
    "            base += 1\n",
    "        else:\n",
    "            return product\n",
    "    except Exception as e:\n",
    "        print('Invalid input!')   "
   ]
  },
  {
   "cell_type": "code",
   "execution_count": 8,
   "id": "69b83be1",
   "metadata": {},
   "outputs": [
    {
     "data": {
      "text/plain": [
       "120"
      ]
     },
     "execution_count": 8,
     "metadata": {},
     "output_type": "execute_result"
    }
   ],
   "source": [
    "calculate_factorial(5)"
   ]
  },
  {
   "cell_type": "markdown",
   "id": "76928291",
   "metadata": {},
   "source": [
    "## Importing Code"
   ]
  },
  {
   "cell_type": "markdown",
   "id": "6abd8aac",
   "metadata": {},
   "source": [
    "Why do we sometimes see people writing:\n",
    "if __name__ == \"__main__\"\n",
    "In what case would that be useful?"
   ]
  },
  {
   "cell_type": "markdown",
   "id": "b9bd6b7c",
   "metadata": {},
   "source": [
    "### Answer:\n",
    "People sometime use the if __name__ == '__main__' block so that the code will execute only when the python file is run as a script. This is useful when you want to allow for the python file to be run as a script (a whole program)  and to also allow it to be imported as a module. For example, if you write a program to solve some problem that uses various function and classes, you might want to reuse these functions and modules again for a different program / problem."
   ]
  },
  {
   "cell_type": "markdown",
   "id": "c2e80a65",
   "metadata": {},
   "source": [
    "## Handling Files"
   ]
  },
  {
   "cell_type": "markdown",
   "id": "a671534f",
   "metadata": {},
   "source": [
    "When reading a file we might want to use the with keyword, e.g:"
   ]
  },
  {
   "cell_type": "code",
   "execution_count": 9,
   "id": "2cb28173",
   "metadata": {},
   "outputs": [],
   "source": [
    "# with open(file_path, 'r') as f:\n",
    "#     print(f.readlines())"
   ]
  },
  {
   "cell_type": "markdown",
   "id": "75b0a035",
   "metadata": {},
   "source": [
    "Why use with? how does it help?"
   ]
  },
  {
   "cell_type": "markdown",
   "id": "48620dfc",
   "metadata": {},
   "source": [
    "### Answer:\n"
   ]
  },
  {
   "cell_type": "markdown",
   "id": "f6a95e1e",
   "metadata": {},
   "source": [
    "# OOP"
   ]
  },
  {
   "cell_type": "markdown",
   "id": "686fea92",
   "metadata": {},
   "source": [
    "## OOP 3 Principles"
   ]
  },
  {
   "cell_type": "markdown",
   "id": "966c7122",
   "metadata": {},
   "source": [
    "### Encapsulation"
   ]
  },
  {
   "cell_type": "markdown",
   "id": "4b1602dc",
   "metadata": {},
   "source": [
    "Write a class that uses encapsulation. Use a protected variable and a method that uses that protected variable. The method can either change the variable (after some validation) or just return it"
   ]
  },
  {
   "cell_type": "markdown",
   "id": "08f2b3c4",
   "metadata": {},
   "source": [
    "### Inheritance"
   ]
  },
  {
   "cell_type": "markdown",
   "id": "14fed9fd",
   "metadata": {},
   "source": [
    "Write a class that inherits from another"
   ]
  },
  {
   "cell_type": "code",
   "execution_count": 10,
   "id": "a95d5a4d",
   "metadata": {},
   "outputs": [],
   "source": [
    "class MedicalProcedure:\n",
    "    def __init__(self, procedure_name: str, system: str, organ: str, outcome: Optional[str] = None):\n",
    "        self.procedure_name = procedure_name\n",
    "        self.system = system\n",
    "        self.organ = organ\n",
    "        self.outcome = outcome\n",
    "    \n",
    "    def __str__(self):\n",
    "        return f\"Name: {self.procedure_name}\\nSystem: {self.system}\\nOrgan: {self.organ}\\nOutcome: {self.outcome}\"\n",
    "\n",
    "class Imaging(MedicalProcedure):\n",
    "    def __init__(self, procedure_name: str, system: str, organ: str, imaging_type: str, facility: Optional[str] = None, outcome: Optional[str] = None):\n",
    "        super().__init__(procedure_name, system, organ, outcome)\n",
    "        \n",
    "        self.imaging_type = imaging_type\n",
    "        self.facility = facility\n",
    "    \n",
    "    def print_imaging_type(self):\n",
    "        print(f'Imaging type: {self.imaging_type}')\n",
    "    \n",
    "    def print_facility(self):\n",
    "        print(f'Facility: {self.facility}')  "
   ]
  },
  {
   "cell_type": "code",
   "execution_count": 11,
   "id": "a8eeabe5",
   "metadata": {},
   "outputs": [
    {
     "name": "stdout",
     "output_type": "stream",
     "text": [
      "Name: spinal surgery\n",
      "System: nervous, skeletal\n",
      "Organ: spine\n",
      "Outcome: successful\n"
     ]
    }
   ],
   "source": [
    "spinal_surgery = MedicalProcedure(procedure_name='spinal surgery', system='nervous, skeletal', organ='spine', outcome='successful')\n",
    "print(spinal_surgery)"
   ]
  },
  {
   "cell_type": "code",
   "execution_count": 12,
   "id": "444a5739",
   "metadata": {},
   "outputs": [
    {
     "name": "stdout",
     "output_type": "stream",
     "text": [
      "Name: Doppler Echocardiogram\n",
      "System: Cardiovascular\n",
      "Organ: Heart\n",
      "Outcome: None\n",
      "Imaging type: Echocardiography\n",
      "Facility: Heart Clinic\n"
     ]
    }
   ],
   "source": [
    "echocardiogram = Imaging(procedure_name='Doppler Echocardiogram', system='Cardiovascular', organ='Heart', imaging_type='Echocardiography', facility='Heart Clinic')\n",
    "print(echocardiogram)\n",
    "echocardiogram.print_imaging_type()\n",
    "echocardiogram.print_facility()"
   ]
  },
  {
   "cell_type": "markdown",
   "id": "21da3399",
   "metadata": {},
   "source": [
    "### Polymorphism"
   ]
  },
  {
   "cell_type": "markdown",
   "id": "ad7d0801",
   "metadata": {},
   "source": [
    "Take one of the methods you implemented in the base class. Rewrite it in the subclass class."
   ]
  },
  {
   "cell_type": "code",
   "execution_count": 13,
   "id": "8ecd49a9",
   "metadata": {},
   "outputs": [],
   "source": [
    "class Imaging(MedicalProcedure):\n",
    "    def __init__(self, procedure_name: str, system: str, organ: str, imaging_type: str, facility: Optional[str] = None, outcome: Optional[str] = None):\n",
    "        super().__init__(procedure_name, system, organ, outcome)\n",
    "        \n",
    "        self.imaging_type = imaging_type\n",
    "        self.facility = facility\n",
    "    \n",
    "    def __str__(self):\n",
    "        return f\"Name: {self.procedure_name}\\nSystem: {self.system}\\nOrgan: {self.organ}\\nOutcome: {self.outcome}\\nImaging type: {self.imaging_type}\\nFacility: {self.facility}\""
   ]
  },
  {
   "cell_type": "code",
   "execution_count": 14,
   "id": "a3a2e747",
   "metadata": {},
   "outputs": [
    {
     "name": "stdout",
     "output_type": "stream",
     "text": [
      "Name: Doppler Echocardiogram\n",
      "System: Cardiovascular\n",
      "Organ: Heart\n",
      "Outcome: None\n",
      "Imaging type: Echocardiography\n",
      "Facility: Heart Clinic\n"
     ]
    }
   ],
   "source": [
    "echocardiogram = Imaging(procedure_name='Doppler Echocardiogram', system='Cardiovascular', organ='Heart', imaging_type='Echocardiography', facility='Heart Clinic')\n",
    "print(echocardiogram)"
   ]
  },
  {
   "cell_type": "markdown",
   "id": "286faccd",
   "metadata": {},
   "source": [
    "## Class vs Instance Methods"
   ]
  },
  {
   "cell_type": "markdown",
   "id": "2f2a4122",
   "metadata": {},
   "source": [
    "Write a class with 2 methods. One that only affects an instance, and one that affects the entire class."
   ]
  },
  {
   "cell_type": "code",
   "execution_count": 21,
   "id": "a7f41d99",
   "metadata": {},
   "outputs": [],
   "source": [
    "import pandas as pd\n",
    "import numpy as np\n",
    "\n",
    "class Result:\n",
    "    @staticmethod\n",
    "    def get_results(result_type: str, results_df: pd.DataFrame):\n",
    "        return Result(result_type, results_df)\n",
    "    \n",
    "        # Raise an exception if results_df is not a DataFrame\n",
    "        if not isinstance(results_df, pd.DataFrame):\n",
    "            raise ValueError('results_df should be a DataFrame')\n",
    "        \n",
    "        # Raise an exception if the DataFrame is empty\n",
    "        if results_df.empty:\n",
    "            raise ValueError('results_df should not be empty')\n",
    "        \n",
    "    \n",
    "    def __init__(self, result_type: str, results_df: pd.DataFrame):\n",
    "        self.result_type = result_type\n",
    "        self.results_df = results_df\n",
    "    \n",
    "    def show_results(self, all_results: bool = False, n_results: Optional[int] = None):\n",
    "        try:\n",
    "            if all_results:\n",
    "                return self.results_df\n",
    "            elif n_results:\n",
    "                return self.results_df.head(n_results)\n",
    "            else:\n",
    "                return self.results_df.head()\n",
    "        except Exception:\n",
    "            print('Invalid input')\n",
    "            \n",
    "class LabTest:\n",
    "    lab_tests = set()\n",
    "    \n",
    "    def __init__(self, test_name: str, test_type: str, results: Result):\n",
    "        self.test_name = test_name\n",
    "        self.test_type = test_type\n",
    "        self.results = results\n",
    "\n",
    "    def __str__(self):\n",
    "        return f\"Test Name: {self.test_name}\\nTest Type: {self.test_type}\\n\"\n",
    "    \n",
    "    @staticmethod\n",
    "    def get_test_results(result_type: str, results_df: pd.DataFrame):\n",
    "        results = Result(result_type=self.test_name, results_df=results_df)\n",
    "\n",
    "    @classmethod\n",
    "    def add_lab_test(cls, test_name: str):\n",
    "        if test_name not in cls.lab_tests:\n",
    "            cls.lab_tests.add(test_name)\n",
    "            print(f'{test_name} added to the list of lab tests')\n",
    "        else:\n",
    "            print(f'{test_name} already exists in the list of lab tests')\n",
    "                  "
   ]
  },
  {
   "cell_type": "code",
   "execution_count": 22,
   "id": "844da68d",
   "metadata": {},
   "outputs": [
    {
     "data": {
      "text/html": [
       "<div>\n",
       "<style scoped>\n",
       "    .dataframe tbody tr th:only-of-type {\n",
       "        vertical-align: middle;\n",
       "    }\n",
       "\n",
       "    .dataframe tbody tr th {\n",
       "        vertical-align: top;\n",
       "    }\n",
       "\n",
       "    .dataframe thead th {\n",
       "        text-align: right;\n",
       "    }\n",
       "</style>\n",
       "<table border=\"1\" class=\"dataframe\">\n",
       "  <thead>\n",
       "    <tr style=\"text-align: right;\">\n",
       "      <th></th>\n",
       "      <th>Glucose</th>\n",
       "      <th>BUN</th>\n",
       "      <th>Creatinine</th>\n",
       "      <th>Sodium</th>\n",
       "      <th>Potassium</th>\n",
       "    </tr>\n",
       "  </thead>\n",
       "  <tbody>\n",
       "    <tr>\n",
       "      <th>2021-01-01</th>\n",
       "      <td>90.0</td>\n",
       "      <td>10.0</td>\n",
       "      <td>0.8</td>\n",
       "      <td>140.0</td>\n",
       "      <td>4.0</td>\n",
       "    </tr>\n",
       "    <tr>\n",
       "      <th>2021-02-01</th>\n",
       "      <td>95.0</td>\n",
       "      <td>11.0</td>\n",
       "      <td>0.9</td>\n",
       "      <td>141.0</td>\n",
       "      <td>4.1</td>\n",
       "    </tr>\n",
       "    <tr>\n",
       "      <th>2021-03-01</th>\n",
       "      <td>100.0</td>\n",
       "      <td>12.0</td>\n",
       "      <td>1.0</td>\n",
       "      <td>142.0</td>\n",
       "      <td>4.2</td>\n",
       "    </tr>\n",
       "    <tr>\n",
       "      <th>2021-04-01</th>\n",
       "      <td>105.0</td>\n",
       "      <td>13.0</td>\n",
       "      <td>1.1</td>\n",
       "      <td>143.0</td>\n",
       "      <td>4.3</td>\n",
       "    </tr>\n",
       "    <tr>\n",
       "      <th>2021-05-01</th>\n",
       "      <td>110.0</td>\n",
       "      <td>14.0</td>\n",
       "      <td>1.2</td>\n",
       "      <td>144.0</td>\n",
       "      <td>4.4</td>\n",
       "    </tr>\n",
       "    <tr>\n",
       "      <th>2021-06-01</th>\n",
       "      <td>115.0</td>\n",
       "      <td>15.0</td>\n",
       "      <td>1.3</td>\n",
       "      <td>145.0</td>\n",
       "      <td>4.5</td>\n",
       "    </tr>\n",
       "    <tr>\n",
       "      <th>2021-07-01</th>\n",
       "      <td>120.0</td>\n",
       "      <td>16.0</td>\n",
       "      <td>1.4</td>\n",
       "      <td>146.0</td>\n",
       "      <td>4.6</td>\n",
       "    </tr>\n",
       "    <tr>\n",
       "      <th>2021-08-01</th>\n",
       "      <td>125.0</td>\n",
       "      <td>17.0</td>\n",
       "      <td>1.5</td>\n",
       "      <td>147.0</td>\n",
       "      <td>4.7</td>\n",
       "    </tr>\n",
       "    <tr>\n",
       "      <th>2021-09-01</th>\n",
       "      <td>130.0</td>\n",
       "      <td>18.0</td>\n",
       "      <td>1.6</td>\n",
       "      <td>148.0</td>\n",
       "      <td>4.8</td>\n",
       "    </tr>\n",
       "    <tr>\n",
       "      <th>2021-10-01</th>\n",
       "      <td>135.0</td>\n",
       "      <td>19.0</td>\n",
       "      <td>1.7</td>\n",
       "      <td>149.0</td>\n",
       "      <td>4.9</td>\n",
       "    </tr>\n",
       "  </tbody>\n",
       "</table>\n",
       "</div>"
      ],
      "text/plain": [
       "            Glucose   BUN  Creatinine  Sodium  Potassium\n",
       "2021-01-01     90.0  10.0         0.8   140.0        4.0\n",
       "2021-02-01     95.0  11.0         0.9   141.0        4.1\n",
       "2021-03-01    100.0  12.0         1.0   142.0        4.2\n",
       "2021-04-01    105.0  13.0         1.1   143.0        4.3\n",
       "2021-05-01    110.0  14.0         1.2   144.0        4.4\n",
       "2021-06-01    115.0  15.0         1.3   145.0        4.5\n",
       "2021-07-01    120.0  16.0         1.4   146.0        4.6\n",
       "2021-08-01    125.0  17.0         1.5   147.0        4.7\n",
       "2021-09-01    130.0  18.0         1.6   148.0        4.8\n",
       "2021-10-01    135.0  19.0         1.7   149.0        4.9"
      ]
     },
     "execution_count": 22,
     "metadata": {},
     "output_type": "execute_result"
    }
   ],
   "source": [
    "# Create a dictionary that contains dictionaries with results of CMP lab tests that were done on 10 different dates\n",
    "cmp_results = {\n",
    "    '2021-01-01': {'Glucose': 90, 'BUN': 10, 'Creatinine': 0.8, 'Sodium': 140, 'Potassium': 4.0},\n",
    "    '2021-02-01': {'Glucose': 95, 'BUN': 11, 'Creatinine': 0.9, 'Sodium': 141, 'Potassium': 4.1},\n",
    "    '2021-03-01': {'Glucose': 100, 'BUN': 12, 'Creatinine': 1.0, 'Sodium': 142, 'Potassium': 4.2},\n",
    "    '2021-04-01': {'Glucose': 105, 'BUN': 13, 'Creatinine': 1.1, 'Sodium': 143, 'Potassium': 4.3},\n",
    "    '2021-05-01': {'Glucose': 110, 'BUN': 14, 'Creatinine': 1.2, 'Sodium': 144, 'Potassium': 4.4},\n",
    "    '2021-06-01': {'Glucose': 115, 'BUN': 15, 'Creatinine': 1.3, 'Sodium': 145, 'Potassium': 4.5},\n",
    "    '2021-07-01': {'Glucose': 120, 'BUN': 16, 'Creatinine': 1.4, 'Sodium': 146, 'Potassium': 4.6},\n",
    "    '2021-08-01': {'Glucose': 125, 'BUN': 17, 'Creatinine': 1.5, 'Sodium': 147, 'Potassium': 4.7},\n",
    "    '2021-09-01': {'Glucose': 130, 'BUN': 18, 'Creatinine': 1.6, 'Sodium': 148, 'Potassium': 4.8},\n",
    "    '2021-10-01': {'Glucose': 135, 'BUN': 19, 'Creatinine': 1.7, 'Sodium': 149, 'Potassium': 4.9}\n",
    "} \n",
    "\n",
    "# Convert the dictionary to a DataFrame with the keys as the index\n",
    "cmp_results_df = pd.DataFrame(cmp_results).T\n",
    "\n",
    "# Create an instance of the Result class\n",
    "cmp_results = Result.get_results('CMP', cmp_results_df)\n",
    "\n",
    "# Show the results\n",
    "cmp_results.show_results(all_results=True)"
   ]
  },
  {
   "cell_type": "code",
   "execution_count": 18,
   "id": "efcfce7e",
   "metadata": {},
   "outputs": [
    {
     "data": {
      "text/html": [
       "<div>\n",
       "<style scoped>\n",
       "    .dataframe tbody tr th:only-of-type {\n",
       "        vertical-align: middle;\n",
       "    }\n",
       "\n",
       "    .dataframe tbody tr th {\n",
       "        vertical-align: top;\n",
       "    }\n",
       "\n",
       "    .dataframe thead th {\n",
       "        text-align: right;\n",
       "    }\n",
       "</style>\n",
       "<table border=\"1\" class=\"dataframe\">\n",
       "  <thead>\n",
       "    <tr style=\"text-align: right;\">\n",
       "      <th></th>\n",
       "      <th>Glucose</th>\n",
       "      <th>BUN</th>\n",
       "      <th>Creatinine</th>\n",
       "      <th>Sodium</th>\n",
       "      <th>Potassium</th>\n",
       "    </tr>\n",
       "  </thead>\n",
       "  <tbody>\n",
       "    <tr>\n",
       "      <th>2021-01-01</th>\n",
       "      <td>90.0</td>\n",
       "      <td>10.0</td>\n",
       "      <td>0.8</td>\n",
       "      <td>140.0</td>\n",
       "      <td>4.0</td>\n",
       "    </tr>\n",
       "    <tr>\n",
       "      <th>2021-02-01</th>\n",
       "      <td>95.0</td>\n",
       "      <td>11.0</td>\n",
       "      <td>0.9</td>\n",
       "      <td>141.0</td>\n",
       "      <td>4.1</td>\n",
       "    </tr>\n",
       "    <tr>\n",
       "      <th>2021-03-01</th>\n",
       "      <td>100.0</td>\n",
       "      <td>12.0</td>\n",
       "      <td>1.0</td>\n",
       "      <td>142.0</td>\n",
       "      <td>4.2</td>\n",
       "    </tr>\n",
       "    <tr>\n",
       "      <th>2021-04-01</th>\n",
       "      <td>105.0</td>\n",
       "      <td>13.0</td>\n",
       "      <td>1.1</td>\n",
       "      <td>143.0</td>\n",
       "      <td>4.3</td>\n",
       "    </tr>\n",
       "  </tbody>\n",
       "</table>\n",
       "</div>"
      ],
      "text/plain": [
       "            Glucose   BUN  Creatinine  Sodium  Potassium\n",
       "2021-01-01     90.0  10.0         0.8   140.0        4.0\n",
       "2021-02-01     95.0  11.0         0.9   141.0        4.1\n",
       "2021-03-01    100.0  12.0         1.0   142.0        4.2\n",
       "2021-04-01    105.0  13.0         1.1   143.0        4.3"
      ]
     },
     "execution_count": 18,
     "metadata": {},
     "output_type": "execute_result"
    }
   ],
   "source": [
    "# Show only 4 lines of the results\n",
    "cmp_results.show_results(n_results=4)"
   ]
  },
  {
   "cell_type": "code",
   "execution_count": 19,
   "id": "57ee0311",
   "metadata": {},
   "outputs": [
    {
     "data": {
      "text/html": [
       "<div>\n",
       "<style scoped>\n",
       "    .dataframe tbody tr th:only-of-type {\n",
       "        vertical-align: middle;\n",
       "    }\n",
       "\n",
       "    .dataframe tbody tr th {\n",
       "        vertical-align: top;\n",
       "    }\n",
       "\n",
       "    .dataframe thead th {\n",
       "        text-align: right;\n",
       "    }\n",
       "</style>\n",
       "<table border=\"1\" class=\"dataframe\">\n",
       "  <thead>\n",
       "    <tr style=\"text-align: right;\">\n",
       "      <th></th>\n",
       "      <th>Glucose</th>\n",
       "      <th>BUN</th>\n",
       "      <th>Creatinine</th>\n",
       "      <th>Sodium</th>\n",
       "      <th>Potassium</th>\n",
       "    </tr>\n",
       "  </thead>\n",
       "  <tbody>\n",
       "    <tr>\n",
       "      <th>2021-01-01</th>\n",
       "      <td>90.0</td>\n",
       "      <td>10.0</td>\n",
       "      <td>0.8</td>\n",
       "      <td>140.0</td>\n",
       "      <td>4.0</td>\n",
       "    </tr>\n",
       "    <tr>\n",
       "      <th>2021-02-01</th>\n",
       "      <td>95.0</td>\n",
       "      <td>11.0</td>\n",
       "      <td>0.9</td>\n",
       "      <td>141.0</td>\n",
       "      <td>4.1</td>\n",
       "    </tr>\n",
       "    <tr>\n",
       "      <th>2021-03-01</th>\n",
       "      <td>100.0</td>\n",
       "      <td>12.0</td>\n",
       "      <td>1.0</td>\n",
       "      <td>142.0</td>\n",
       "      <td>4.2</td>\n",
       "    </tr>\n",
       "    <tr>\n",
       "      <th>2021-04-01</th>\n",
       "      <td>105.0</td>\n",
       "      <td>13.0</td>\n",
       "      <td>1.1</td>\n",
       "      <td>143.0</td>\n",
       "      <td>4.3</td>\n",
       "    </tr>\n",
       "    <tr>\n",
       "      <th>2021-05-01</th>\n",
       "      <td>110.0</td>\n",
       "      <td>14.0</td>\n",
       "      <td>1.2</td>\n",
       "      <td>144.0</td>\n",
       "      <td>4.4</td>\n",
       "    </tr>\n",
       "  </tbody>\n",
       "</table>\n",
       "</div>"
      ],
      "text/plain": [
       "            Glucose   BUN  Creatinine  Sodium  Potassium\n",
       "2021-01-01     90.0  10.0         0.8   140.0        4.0\n",
       "2021-02-01     95.0  11.0         0.9   141.0        4.1\n",
       "2021-03-01    100.0  12.0         1.0   142.0        4.2\n",
       "2021-04-01    105.0  13.0         1.1   143.0        4.3\n",
       "2021-05-01    110.0  14.0         1.2   144.0        4.4"
      ]
     },
     "execution_count": 19,
     "metadata": {},
     "output_type": "execute_result"
    }
   ],
   "source": [
    "# Show the results without specifying how many lines\n",
    "cmp_results.show_results()"
   ]
  },
  {
   "cell_type": "code",
   "execution_count": 17,
   "id": "97d14a6e",
   "metadata": {},
   "outputs": [
    {
     "name": "stdout",
     "output_type": "stream",
     "text": [
      "Test Name: CMP\n",
      "Test Type: Blood Test\n",
      "\n",
      "CMP added to the list of lab tests\n"
     ]
    },
    {
     "data": {
      "text/html": [
       "<div>\n",
       "<style scoped>\n",
       "    .dataframe tbody tr th:only-of-type {\n",
       "        vertical-align: middle;\n",
       "    }\n",
       "\n",
       "    .dataframe tbody tr th {\n",
       "        vertical-align: top;\n",
       "    }\n",
       "\n",
       "    .dataframe thead th {\n",
       "        text-align: right;\n",
       "    }\n",
       "</style>\n",
       "<table border=\"1\" class=\"dataframe\">\n",
       "  <thead>\n",
       "    <tr style=\"text-align: right;\">\n",
       "      <th></th>\n",
       "      <th>Glucose</th>\n",
       "      <th>BUN</th>\n",
       "      <th>Creatinine</th>\n",
       "      <th>Sodium</th>\n",
       "      <th>Potassium</th>\n",
       "    </tr>\n",
       "  </thead>\n",
       "  <tbody>\n",
       "    <tr>\n",
       "      <th>2021-01-01</th>\n",
       "      <td>90.0</td>\n",
       "      <td>10.0</td>\n",
       "      <td>0.8</td>\n",
       "      <td>140.0</td>\n",
       "      <td>4.0</td>\n",
       "    </tr>\n",
       "    <tr>\n",
       "      <th>2021-02-01</th>\n",
       "      <td>95.0</td>\n",
       "      <td>11.0</td>\n",
       "      <td>0.9</td>\n",
       "      <td>141.0</td>\n",
       "      <td>4.1</td>\n",
       "    </tr>\n",
       "    <tr>\n",
       "      <th>2021-03-01</th>\n",
       "      <td>100.0</td>\n",
       "      <td>12.0</td>\n",
       "      <td>1.0</td>\n",
       "      <td>142.0</td>\n",
       "      <td>4.2</td>\n",
       "    </tr>\n",
       "    <tr>\n",
       "      <th>2021-04-01</th>\n",
       "      <td>105.0</td>\n",
       "      <td>13.0</td>\n",
       "      <td>1.1</td>\n",
       "      <td>143.0</td>\n",
       "      <td>4.3</td>\n",
       "    </tr>\n",
       "    <tr>\n",
       "      <th>2021-05-01</th>\n",
       "      <td>110.0</td>\n",
       "      <td>14.0</td>\n",
       "      <td>1.2</td>\n",
       "      <td>144.0</td>\n",
       "      <td>4.4</td>\n",
       "    </tr>\n",
       "    <tr>\n",
       "      <th>2021-06-01</th>\n",
       "      <td>115.0</td>\n",
       "      <td>15.0</td>\n",
       "      <td>1.3</td>\n",
       "      <td>145.0</td>\n",
       "      <td>4.5</td>\n",
       "    </tr>\n",
       "    <tr>\n",
       "      <th>2021-07-01</th>\n",
       "      <td>120.0</td>\n",
       "      <td>16.0</td>\n",
       "      <td>1.4</td>\n",
       "      <td>146.0</td>\n",
       "      <td>4.6</td>\n",
       "    </tr>\n",
       "    <tr>\n",
       "      <th>2021-08-01</th>\n",
       "      <td>125.0</td>\n",
       "      <td>17.0</td>\n",
       "      <td>1.5</td>\n",
       "      <td>147.0</td>\n",
       "      <td>4.7</td>\n",
       "    </tr>\n",
       "    <tr>\n",
       "      <th>2021-09-01</th>\n",
       "      <td>130.0</td>\n",
       "      <td>18.0</td>\n",
       "      <td>1.6</td>\n",
       "      <td>148.0</td>\n",
       "      <td>4.8</td>\n",
       "    </tr>\n",
       "    <tr>\n",
       "      <th>2021-10-01</th>\n",
       "      <td>135.0</td>\n",
       "      <td>19.0</td>\n",
       "      <td>1.7</td>\n",
       "      <td>149.0</td>\n",
       "      <td>4.9</td>\n",
       "    </tr>\n",
       "  </tbody>\n",
       "</table>\n",
       "</div>"
      ],
      "text/plain": [
       "            Glucose   BUN  Creatinine  Sodium  Potassium\n",
       "2021-01-01     90.0  10.0         0.8   140.0        4.0\n",
       "2021-02-01     95.0  11.0         0.9   141.0        4.1\n",
       "2021-03-01    100.0  12.0         1.0   142.0        4.2\n",
       "2021-04-01    105.0  13.0         1.1   143.0        4.3\n",
       "2021-05-01    110.0  14.0         1.2   144.0        4.4\n",
       "2021-06-01    115.0  15.0         1.3   145.0        4.5\n",
       "2021-07-01    120.0  16.0         1.4   146.0        4.6\n",
       "2021-08-01    125.0  17.0         1.5   147.0        4.7\n",
       "2021-09-01    130.0  18.0         1.6   148.0        4.8\n",
       "2021-10-01    135.0  19.0         1.7   149.0        4.9"
      ]
     },
     "execution_count": 17,
     "metadata": {},
     "output_type": "execute_result"
    }
   ],
   "source": [
    "# Create an instance of the LabTest class\n",
    "cmp_test = LabTest(test_name='CMP', test_type='Blood Test', results=cmp_results)\n",
    "\n",
    "# Show the lab test\n",
    "print(cmp_test)\n",
    "\n",
    "# Add the lab test to the list of lab tests\n",
    "LabTest.add_lab_test('CMP')\n",
    "\n",
    "# Show the results of the lab test\n",
    "cmp_test.results.show_results(all_results=True)"
   ]
  }
 ],
 "metadata": {
  "kernelspec": {
   "display_name": "Python 3",
   "language": "python",
   "name": "python3"
  },
  "language_info": {
   "codemirror_mode": {
    "name": "ipython",
    "version": 3
   },
   "file_extension": ".py",
   "mimetype": "text/x-python",
   "name": "python",
   "nbconvert_exporter": "python",
   "pygments_lexer": "ipython3",
   "version": "3.11.3"
  }
 },
 "nbformat": 4,
 "nbformat_minor": 5
}
