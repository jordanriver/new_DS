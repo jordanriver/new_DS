{
 "cells": [
  {
   "cell_type": "markdown",
   "id": "191e5f6d",
   "metadata": {},
   "source": [
    "# Exercise 1"
   ]
  },
  {
   "cell_type": "markdown",
   "id": "98cb881d",
   "metadata": {},
   "source": [
    "Exercise: Planting Multiple Seeds\n",
    "Write a function plant_seeds that takes a variable number of arguments representing the types of seeds to plant. Print a message for each seed type indicating the planting action."
   ]
  },
  {
   "cell_type": "code",
   "execution_count": 5,
   "id": "889f8661",
   "metadata": {},
   "outputs": [],
   "source": [
    "from typing import Optional, List, Tuple, Union, Any, Callable, Set, Dict"
   ]
  },
  {
   "cell_type": "code",
   "execution_count": 6,
   "id": "b168f0ea",
   "metadata": {},
   "outputs": [],
   "source": [
    "def sow_the_seeds(*args: str) -> str:\n",
    "    for arg in args:\n",
    "        print(f'{arg} sown.')"
   ]
  },
  {
   "cell_type": "code",
   "execution_count": 7,
   "id": "49b22dcc",
   "metadata": {},
   "outputs": [
    {
     "name": "stdout",
     "output_type": "stream",
     "text": [
      "carrot seeds sown.\n",
      "watermelon seeds sown.\n",
      "kale seeds sown.\n",
      "sunflower seeds sown.\n"
     ]
    }
   ],
   "source": [
    "sow_the_seeds('carrot seeds', 'watermelon seeds', 'kale seeds', 'sunflower seeds')"
   ]
  },
  {
   "cell_type": "markdown",
   "id": "f698d80a",
   "metadata": {},
   "source": [
    "# Exercise 2"
   ]
  },
  {
   "cell_type": "markdown",
   "id": "ff08d35d",
   "metadata": {},
   "source": [
    "Exercise: Watering Plants with Specific Intervals\n",
    "Write a function water_plants that takes a variable number of keyword arguments representing different plant names and their watering intervals. Print a message for each plant indicating the watering schedule."
   ]
  },
  {
   "cell_type": "code",
   "execution_count": 9,
   "id": "00286e0e",
   "metadata": {},
   "outputs": [],
   "source": [
    "def water_plants(**kwargs: Dict[str, str]) -> str:\n",
    "    for plant, watering_frequency in kwargs.items():\n",
    "        print(f'Watering schedule for {plant}: Water {watering_frequency}.')"
   ]
  },
  {
   "cell_type": "code",
   "execution_count": 14,
   "id": "302bd672",
   "metadata": {},
   "outputs": [],
   "source": [
    "plants_to_water = {\n",
    "    'juniper': 'once a week',\n",
    "    'kale': '3 times a week',\n",
    "    'tomato': 'twice a day',\n",
    "    'aloe': 'once every 2 months',\n",
    "    'orange': '3 times a day'\n",
    "}"
   ]
  },
  {
   "cell_type": "code",
   "execution_count": 15,
   "id": "a48e1fee",
   "metadata": {},
   "outputs": [
    {
     "name": "stdout",
     "output_type": "stream",
     "text": [
      "Watering schedule for juniper: Water once a week.\n",
      "Watering schedule for kale: Water 3 times a week.\n",
      "Watering schedule for tomato: Water twice a day.\n",
      "Watering schedule for aloe: Water once every 2 months.\n",
      "Watering schedule for orange: Water 3 times a day.\n"
     ]
    }
   ],
   "source": [
    "water_plants(**plants_to_water)"
   ]
  },
  {
   "cell_type": "markdown",
   "id": "e2c0ada5",
   "metadata": {},
   "source": [
    "Exercise: Harvesting Vegetables with Specific Durations\n",
    "Write a function harvest_vegetables that takes a variable number of keyword arguments representing different vegetable types and the number of days to harvest. Print a message for each vegetable indicating the harvesting duration."
   ]
  },
  {
   "cell_type": "code",
   "execution_count": 16,
   "id": "7d648f14",
   "metadata": {},
   "outputs": [],
   "source": [
    "def harvest(**kwargs: Dict[str, int]) -> str:\n",
    "    for vegetable, days_to_harvest in kwargs.items():\n",
    "        print(f'You should harvest the {vegetable} in {days_to_harvest} days.')    "
   ]
  },
  {
   "cell_type": "code",
   "execution_count": 17,
   "id": "807d6879",
   "metadata": {},
   "outputs": [],
   "source": [
    "vegetables_to_harvest = {\n",
    "    'kale': 40,\n",
    "    'tomato': 23,\n",
    "    'cucumber': 46,\n",
    "    'zucchini': 76,\n",
    "    'carrot': 5\n",
    "}"
   ]
  },
  {
   "cell_type": "code",
   "execution_count": 18,
   "id": "edc368de",
   "metadata": {},
   "outputs": [
    {
     "name": "stdout",
     "output_type": "stream",
     "text": [
      "You should harvest the kale in 40 days.\n",
      "You should harvest the tomato in 23 days.\n",
      "You should harvest the cucumber in 46 days.\n",
      "You should harvest the zucchini in 76 days.\n",
      "You should harvest the carrot in 5 days.\n"
     ]
    }
   ],
   "source": [
    "harvest(**vegetables_to_harvest)"
   ]
  },
  {
   "cell_type": "markdown",
   "id": "0988d1b6",
   "metadata": {},
   "source": [
    "# Intermediate difficulty"
   ]
  },
  {
   "cell_type": "markdown",
   "id": "12879ba6",
   "metadata": {},
   "source": [
    "Exercise: Planning Garden Layout\n",
    "You are planning the layout for a garden and want to create a function that can handle different types of plants and their quantities. Write a function plan_garden that takes the garden name as the first argument, followed by *args representing the plant types, and **kwargs representing the quantities of each plant type. The function should print a message indicating the garden name, followed by the list of plants and their quantities."
   ]
  },
  {
   "cell_type": "code",
   "execution_count": 19,
   "id": "915c156a",
   "metadata": {},
   "outputs": [],
   "source": [
    "def garden_plan(garden_name, *args, **kwargs):\n",
    "    print(f'{garden_name}:\\n')\n",
    "    \n",
    "    for plant, quantity in zip(args, kwargs.values()):\n",
    "        print(f'{quantity} {plant} plants.')"
   ]
  },
  {
   "cell_type": "code",
   "execution_count": null,
   "id": "bce8aae6",
   "metadata": {},
   "outputs": [],
   "source": []
  }
 ],
 "metadata": {
  "kernelspec": {
   "display_name": "Python 3 (ipykernel)",
   "language": "python",
   "name": "python3"
  },
  "language_info": {
   "codemirror_mode": {
    "name": "ipython",
    "version": 3
   },
   "file_extension": ".py",
   "mimetype": "text/x-python",
   "name": "python",
   "nbconvert_exporter": "python",
   "pygments_lexer": "ipython3",
   "version": "3.12.0"
  }
 },
 "nbformat": 4,
 "nbformat_minor": 5
}
