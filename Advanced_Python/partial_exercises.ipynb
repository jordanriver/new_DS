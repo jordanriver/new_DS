{
 "cells": [
  {
   "cell_type": "markdown",
   "id": "c0c8a9b2",
   "metadata": {},
   "source": [
    "# Exercise 1"
   ]
  },
  {
   "cell_type": "markdown",
   "id": "6447626b",
   "metadata": {},
   "source": [
    "Exercise: Planting Seeds with Fixed Seed Type\n",
    "Use functools.partial to create a function plant_seeds that plants a fixed type of seeds (e.g., \"Tomato\") with variable quantities. The function should take the quantity as an argument and return a message indicating the action.\n",
    "Create another variable for the same vegtable, with a different seed"
   ]
  },
  {
   "cell_type": "markdown",
   "id": "835ddc2c",
   "metadata": {},
   "source": [
    "# Exercise 2"
   ]
  },
  {
   "cell_type": "markdown",
   "id": "dea23eca",
   "metadata": {},
   "source": [
    "Exercise: Watering Plants with Fixed Frequency\n",
    "Use functools.partial to create a function water_plants that waters plants with a fixed frequency (e.g., every 3 days) but variable plant names. The function should take the plant name as an argument and return a message indicating the watering schedule.\n",
    "\n",
    "Create another plant that needs the same frequent watering and print it too."
   ]
  },
  {
   "cell_type": "code",
   "execution_count": 1,
   "id": "00b8b709",
   "metadata": {},
   "outputs": [],
   "source": [
    "from functools import partial"
   ]
  },
  {
   "cell_type": "code",
   "execution_count": 5,
   "id": "3de79370",
   "metadata": {},
   "outputs": [],
   "source": [
    "def water_plants(plant: str, frequency: str) -> str:\n",
    "    print(f'Watering schedule: Water the {plant} {frequency}')"
   ]
  },
  {
   "cell_type": "code",
   "execution_count": 6,
   "id": "1ffd02a4",
   "metadata": {},
   "outputs": [],
   "source": [
    "water_tree = partial(water_plants, frequency='once a week')\n",
    "water_flower = partial(water_plants, frequency='3 times a week')"
   ]
  },
  {
   "cell_type": "code",
   "execution_count": 8,
   "id": "1c135ecc",
   "metadata": {},
   "outputs": [
    {
     "name": "stdout",
     "output_type": "stream",
     "text": [
      "Watering schedule: Water the oak once a week\n",
      "Watering schedule: Water the rose 3 times a week\n"
     ]
    }
   ],
   "source": [
    "water_tree('oak')\n",
    "water_flower('rose')"
   ]
  },
  {
   "cell_type": "markdown",
   "id": "668c335b",
   "metadata": {},
   "source": [
    "# Exercise 3"
   ]
  },
  {
   "cell_type": "markdown",
   "id": "fd5ea9c6",
   "metadata": {},
   "source": [
    "Exercise: Harvesting Vegetables with Fixed Harvesting Time\n",
    "Use functools.partial to create a function harvest_vegetables that indicates when to harvest a fixed type of vegetable (e.g., \"Carrot\") with variable expected days to harvest. The function should take the days to harvest as an argument and return a message indicating when to harvest."
   ]
  },
  {
   "cell_type": "code",
   "execution_count": 9,
   "id": "f45008d1",
   "metadata": {},
   "outputs": [],
   "source": [
    "def harvest_vegetable(vegetable: str, row: int, days_to_harvest: int) -> str:\n",
    "    print(f'You should harvest {vegetable} row no.{row} in {days_to_harvest} days.')"
   ]
  },
  {
   "cell_type": "code",
   "execution_count": 10,
   "id": "456c06cd",
   "metadata": {},
   "outputs": [],
   "source": [
    "harvest_cabbage = partial(harvest_vegetable, vegetable='cabbage')\n",
    "harvest_pepper = partial(harvest_vegetable, vegetable='pepper')"
   ]
  },
  {
   "cell_type": "code",
   "execution_count": 11,
   "id": "15feb2e9",
   "metadata": {},
   "outputs": [
    {
     "name": "stdout",
     "output_type": "stream",
     "text": [
      "You should harvest cabbage row no.3 in 20 days.\n"
     ]
    }
   ],
   "source": [
    "harvest_cabbage(row=3, days_to_harvest=20)"
   ]
  },
  {
   "cell_type": "code",
   "execution_count": 12,
   "id": "01b782b1",
   "metadata": {},
   "outputs": [
    {
     "name": "stdout",
     "output_type": "stream",
     "text": [
      "You should harvest pepper row no.21 in 4 days.\n"
     ]
    }
   ],
   "source": [
    "harvest_pepper(row=21, days_to_harvest=4)"
   ]
  },
  {
   "cell_type": "markdown",
   "id": "ce1fe50e",
   "metadata": {},
   "source": [
    "# Intermediate difficulty"
   ]
  },
  {
   "cell_type": "markdown",
   "id": "bb281c04",
   "metadata": {},
   "source": [
    "Create a pipeline for gardening tasks using functools.partial. Define a series of functions representing different gardening tasks, such as planting seeds, watering plants, and harvesting vegetables. Use functools.partial to create partial functions for each task with some fixed parameters (e.g., specific plant types, quantities, or frequencies). Then, combine these partial functions into a pipeline that executes the tasks in a specific order."
   ]
  },
  {
   "cell_type": "code",
   "execution_count": null,
   "id": "06d08026",
   "metadata": {},
   "outputs": [],
   "source": []
  }
 ],
 "metadata": {
  "kernelspec": {
   "display_name": "Python 3 (ipykernel)",
   "language": "python",
   "name": "python3"
  },
  "language_info": {
   "codemirror_mode": {
    "name": "ipython",
    "version": 3
   },
   "file_extension": ".py",
   "mimetype": "text/x-python",
   "name": "python",
   "nbconvert_exporter": "python",
   "pygments_lexer": "ipython3",
   "version": "3.12.0"
  }
 },
 "nbformat": 4,
 "nbformat_minor": 5
}
