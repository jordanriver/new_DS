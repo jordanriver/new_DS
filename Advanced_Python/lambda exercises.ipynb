{
 "cells": [
  {
   "cell_type": "markdown",
   "id": "44f7addc",
   "metadata": {},
   "source": [
    "# Exercise 1"
   ]
  },
  {
   "cell_type": "markdown",
   "id": "d1183b7f",
   "metadata": {},
   "source": [
    "Create a dictionary of plants with their names and types (e.g., \"Rose\": \"Flower\", \"Tomato\": \"Vegetable\", \"Lemon Tree\": \"Fruit Tree\"). Use a lambda function to filter only the plants that are flowers. * Use the filter built in method"
   ]
  },
  {
   "cell_type": "code",
   "execution_count": 1,
   "id": "133b1ee4",
   "metadata": {},
   "outputs": [],
   "source": [
    "plant_dict = {\n",
    "    \"Rose\": \"flower\",\n",
    "    \"Cactus\": \"succulent\",\n",
    "    \"Ivy\": \"vine\",\n",
    "    \"Maple\": \"tree\",\n",
    "    \"Palm\": \"tree\",\n",
    "    \"grass\": \"grass\"\n",
    "}"
   ]
  },
  {
   "cell_type": "code",
   "execution_count": 12,
   "id": "05f548bb",
   "metadata": {},
   "outputs": [
    {
     "data": {
      "text/plain": [
       "['Rose']"
      ]
     },
     "execution_count": 12,
     "metadata": {},
     "output_type": "execute_result"
    }
   ],
   "source": [
    "list(filter(lambda x: plant_dict[x] == \"flower\", plant_dict))"
   ]
  },
  {
   "cell_type": "markdown",
   "id": "74758c7d",
   "metadata": {},
   "source": [
    "# Exercise 2"
   ]
  },
  {
   "cell_type": "markdown",
   "id": "cf6cc4e6",
   "metadata": {},
   "source": [
    "Create a list of plant heights at the beginning of the season. Use a lambda function to calculate the growth of each plant by subtracting the final height from the initial height. * Use the map built in method"
   ]
  },
  {
   "cell_type": "code",
   "execution_count": 3,
   "id": "4a46cb17",
   "metadata": {},
   "outputs": [],
   "source": [
    "from random import randint"
   ]
  },
  {
   "cell_type": "code",
   "execution_count": 4,
   "id": "b9f66835",
   "metadata": {},
   "outputs": [
    {
     "name": "stdout",
     "output_type": "stream",
     "text": [
      "[43, 34, 44, 23, 18, 14, 38, 49, 34, 37]\n"
     ]
    }
   ],
   "source": [
    "# list of plant heights at the start of the season\n",
    "plant_heights_starting = [randint(10, 50) for i in range(10)]\n",
    "print(plant_heights_starting)"
   ]
  },
  {
   "cell_type": "code",
   "execution_count": 5,
   "id": "857aa8ee",
   "metadata": {},
   "outputs": [
    {
     "name": "stdout",
     "output_type": "stream",
     "text": [
      "[45, 40, 47, 32, 28, 20, 41, 54, 39, 38]\n"
     ]
    }
   ],
   "source": [
    "# list of plant heights at the end of the season\n",
    "plant_heights_ending = [start_height + randint(1, 10) for start_height in plant_heights_starting]\n",
    "print(plant_heights_ending)"
   ]
  },
  {
   "cell_type": "code",
   "execution_count": 6,
   "id": "004df512",
   "metadata": {},
   "outputs": [
    {
     "name": "stdout",
     "output_type": "stream",
     "text": [
      "[2, 6, 3, 9, 10, 6, 3, 5, 5, 1]\n"
     ]
    }
   ],
   "source": [
    "plant_growth = list(map(lambda x, y: y - x, plant_heights_starting, plant_heights_ending))\n",
    "print(plant_growth)"
   ]
  },
  {
   "cell_type": "markdown",
   "id": "3bdc2f55",
   "metadata": {},
   "source": [
    "# Exercise 3"
   ]
  },
  {
   "cell_type": "markdown",
   "id": "5b6db6ab",
   "metadata": {},
   "source": [
    "Create a list of plant names. Use a lambda function to sort the plant names based on the length of their names, from shortest to longest. * Use the sorted built in method. \n",
    "\n",
    "Bonus: Do the same, but start with the longest names first"
   ]
  },
  {
   "cell_type": "code",
   "execution_count": 7,
   "id": "a11c30cd",
   "metadata": {},
   "outputs": [
    {
     "name": "stdout",
     "output_type": "stream",
     "text": [
      "['Rose', 'Cactus', 'Ivy', 'Maple', 'Palm', 'grass']\n"
     ]
    }
   ],
   "source": [
    "# list of plant names\n",
    "plant_names = list(plant_dict.keys())\n",
    "print(plant_names)"
   ]
  },
  {
   "cell_type": "code",
   "execution_count": 8,
   "id": "f2d52ce4",
   "metadata": {},
   "outputs": [
    {
     "data": {
      "text/plain": [
       "['Ivy', 'Rose', 'Palm', 'Maple', 'grass', 'Cactus']"
      ]
     },
     "execution_count": 8,
     "metadata": {},
     "output_type": "execute_result"
    }
   ],
   "source": [
    "sorted(plant_names, key=lambda x: len(x))"
   ]
  },
  {
   "cell_type": "markdown",
   "id": "fcc69f59",
   "metadata": {},
   "source": [
    "# Intermediate difficulty"
   ]
  },
  {
   "cell_type": "markdown",
   "id": "778ae305",
   "metadata": {},
   "source": [
    "You have a list of tuples containing plant names and the number of days since they were last watered. Write a function that takes this list and a threshold value for the number of days (e.g., 3 days) and returns a list of plants that need to be watered (i.e., those that have not been watered for more than the threshold number of days)."
   ]
  },
  {
   "cell_type": "code",
   "execution_count": 29,
   "id": "cef96f43",
   "metadata": {},
   "outputs": [],
   "source": [
    "# list of tuples with plant name and the number of days since it was watered\n",
    "plant_watered = [(plant, randint(1, 10)) for plant in plant_names]\n",
    "watering_threshold = 4"
   ]
  },
  {
   "cell_type": "code",
   "execution_count": 30,
   "id": "9f982d00",
   "metadata": {},
   "outputs": [
    {
     "data": {
      "text/plain": [
       "['Rose', 'Cactus', 'Maple', 'grass']"
      ]
     },
     "execution_count": 30,
     "metadata": {},
     "output_type": "execute_result"
    }
   ],
   "source": [
    "[x[0] for x in list(filter(lambda x: x[1] > watering_threshold, plant_watered))]"
   ]
  }
 ],
 "metadata": {
  "kernelspec": {
   "display_name": "Python 3 (ipykernel)",
   "language": "python",
   "name": "python3"
  },
  "language_info": {
   "codemirror_mode": {
    "name": "ipython",
    "version": 3
   },
   "file_extension": ".py",
   "mimetype": "text/x-python",
   "name": "python",
   "nbconvert_exporter": "python",
   "pygments_lexer": "ipython3",
   "version": "3.12.0"
  }
 },
 "nbformat": 4,
 "nbformat_minor": 5
}
