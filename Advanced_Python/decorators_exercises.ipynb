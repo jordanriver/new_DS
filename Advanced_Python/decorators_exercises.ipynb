{
 "cells": [
  {
   "cell_type": "markdown",
   "id": "44f7addc",
   "metadata": {},
   "source": [
    "# Exercise 1"
   ]
  },
  {
   "cell_type": "markdown",
   "id": "c0de37dc",
   "metadata": {},
   "source": [
    "Timing Decorator: Create a decorator that calculates and prints the time taken by a function to execute."
   ]
  },
  {
   "cell_type": "code",
   "execution_count": 3,
   "id": "fe4e1aad",
   "metadata": {},
   "outputs": [],
   "source": [
    "from typing import Callable"
   ]
  },
  {
   "cell_type": "code",
   "execution_count": 7,
   "id": "136fbd0a",
   "metadata": {},
   "outputs": [],
   "source": [
    "def timer(func: Callable) -> Callable:\n",
    "    def wrapper(*args, **kwargs):\n",
    "        import time\n",
    "        start = time.perf_counter()\n",
    "        result = func(*args, **kwargs)\n",
    "        elapsed_time = time.perf_counter() - start\n",
    "        print(f'{func.__name__} elapsed time: {elapsed_time:.8f} seconds.')\n",
    "        return result\n",
    "    return wrapper"
   ]
  },
  {
   "cell_type": "code",
   "execution_count": 12,
   "id": "892df8c9",
   "metadata": {},
   "outputs": [],
   "source": [
    "@timer\n",
    "def add_integers(a: int, b: int) -> int:\n",
    "    print(f'{a} + {b} = {a + b}')"
   ]
  },
  {
   "cell_type": "code",
   "execution_count": 13,
   "id": "83cbac0a",
   "metadata": {},
   "outputs": [
    {
     "name": "stdout",
     "output_type": "stream",
     "text": [
      "1 + 2 = 3\n",
      "add_integers elapsed time: 0.00002970 seconds.\n"
     ]
    }
   ],
   "source": [
    "add_integers(1, 2)"
   ]
  },
  {
   "cell_type": "markdown",
   "id": "74758c7d",
   "metadata": {},
   "source": [
    "# Exercise 2"
   ]
  },
  {
   "cell_type": "markdown",
   "id": "4bebabd0",
   "metadata": {},
   "source": [
    "Logging Decorator: Implement a decorator that logs the arguments and return value of a function."
   ]
  },
  {
   "cell_type": "code",
   "execution_count": 22,
   "id": "73293690",
   "metadata": {},
   "outputs": [],
   "source": [
    "def logger(func: Callable) -> Callable:\n",
    "    def wrapper(*args, **kwargs):\n",
    "        if args:\n",
    "            print(f'Arguments: {args}')\n",
    "        elif kwargs:\n",
    "            print(f'Arguments: {kwargs}')\n",
    "        elif args and kwargs:\n",
    "            print(f'Arguments: {args}, {kwargs}')\n",
    "        else:\n",
    "            print('No arguments.')\\\n",
    "                \n",
    "        result = func(*args, **kwargs)\n",
    "        \n",
    "        return result\n",
    "    \n",
    "    return wrapper"
   ]
  },
  {
   "cell_type": "code",
   "execution_count": 23,
   "id": "412a2d28",
   "metadata": {},
   "outputs": [],
   "source": [
    "@logger\n",
    "def multiply_integers(a: int, b: int) -> int:\n",
    "    print(f'{a} * {b} = {a * b}')"
   ]
  },
  {
   "cell_type": "code",
   "execution_count": 24,
   "id": "0f3c9262",
   "metadata": {},
   "outputs": [
    {
     "name": "stdout",
     "output_type": "stream",
     "text": [
      "Arguments: (3, 4)\n",
      "3 * 4 = 12\n"
     ]
    }
   ],
   "source": [
    "multiply_integers(3, 4)"
   ]
  },
  {
   "cell_type": "code",
   "execution_count": 25,
   "id": "d95a56ca",
   "metadata": {},
   "outputs": [
    {
     "name": "stdout",
     "output_type": "stream",
     "text": [
      "Arguments: {'a': 5, 'b': 6}\n",
      "5 * 6 = 30\n"
     ]
    }
   ],
   "source": [
    "args_dict = {'a': 5, 'b': 6}\n",
    "multiply_integers(**args_dict)"
   ]
  },
  {
   "cell_type": "markdown",
   "id": "3bdc2f55",
   "metadata": {},
   "source": [
    "# Exercise 3"
   ]
  },
  {
   "cell_type": "markdown",
   "id": "c1db5a5f",
   "metadata": {},
   "source": [
    "Authorization Decorator: Create a decorator that checks if a user is authorized to call a function. It could for example expect the type of user as an argument and decide whether it should respond"
   ]
  },
  {
   "cell_type": "code",
   "execution_count": 14,
   "id": "a3da82e8",
   "metadata": {},
   "outputs": [],
   "source": [
    "# Create a decorator that checks if a user is authorized to call a function. \n",
    "# It could for example expect the type of user as an argument and decide whether it should respond.\n",
    "def authorizer(func: Callable) -> Callable:\n",
    "    def wrapper(user: str):\n",
    "        if user_type == 'admin':\n",
    "            return func(user)\n",
    "        else:\n",
    "            raise PermissionError('Unauthorized user')\n",
    "    return wrapper  "
   ]
  },
  {
   "cell_type": "code",
   "execution_count": 16,
   "id": "e950d609",
   "metadata": {},
   "outputs": [],
   "source": [
    "# Create a function that requires authorization to call it.\n",
    "@authorizer\n",
    "def delete_user(user: str) -> str:\n",
    "    return f'Hello {user}, you deleted user.'"
   ]
  },
  {
   "cell_type": "code",
   "execution_count": 21,
   "id": "5b6e3827",
   "metadata": {},
   "outputs": [
    {
     "name": "stdout",
     "output_type": "stream",
     "text": [
      "Hello admin, you deleted user.\n"
     ]
    }
   ],
   "source": [
    "print(delete_user('admin'))"
   ]
  },
  {
   "cell_type": "code",
   "execution_count": 20,
   "id": "07c30741",
   "metadata": {},
   "outputs": [
    {
     "ename": "PermissionError",
     "evalue": "Unauthorized user",
     "output_type": "error",
     "traceback": [
      "\u001b[1;31m---------------------------------------------------------------------------\u001b[0m",
      "\u001b[1;31mPermissionError\u001b[0m                           Traceback (most recent call last)",
      "Cell \u001b[1;32mIn[20], line 1\u001b[0m\n\u001b[1;32m----> 1\u001b[0m \u001b[38;5;129;43m@authorizer\u001b[39;49m\u001b[43m(\u001b[49m\u001b[38;5;124;43m'\u001b[39;49m\u001b[38;5;124;43muser\u001b[39;49m\u001b[38;5;124;43m'\u001b[39;49m\u001b[43m)\u001b[49m\n\u001b[0;32m      2\u001b[0m \u001b[38;5;28;43;01mdef\u001b[39;49;00m\u001b[43m \u001b[49m\u001b[38;5;21;43mdelete_user\u001b[39;49m\u001b[43m(\u001b[49m\u001b[43muser_id\u001b[49m\u001b[43m:\u001b[49m\u001b[43m \u001b[49m\u001b[38;5;28;43mint\u001b[39;49m\u001b[43m)\u001b[49m\u001b[43m \u001b[49m\u001b[38;5;241;43m-\u001b[39;49m\u001b[38;5;241;43m>\u001b[39;49m\u001b[43m \u001b[49m\u001b[38;5;28;43mstr\u001b[39;49m\u001b[43m:\u001b[49m\n\u001b[0;32m      3\u001b[0m \u001b[43m    \u001b[49m\u001b[38;5;28;43;01mreturn\u001b[39;49;00m\u001b[43m \u001b[49m\u001b[38;5;124;43mf\u001b[39;49m\u001b[38;5;124;43m'\u001b[39;49m\u001b[38;5;124;43mDeleted user with id \u001b[39;49m\u001b[38;5;132;43;01m{\u001b[39;49;00m\u001b[43muser_id\u001b[49m\u001b[38;5;132;43;01m}\u001b[39;49;00m\u001b[38;5;124;43m.\u001b[39;49m\u001b[38;5;124;43m'\u001b[39;49m\n",
      "Cell \u001b[1;32mIn[14], line 8\u001b[0m, in \u001b[0;36mauthorizer.<locals>.wrapper\u001b[1;34m(user_type)\u001b[0m\n\u001b[0;32m      6\u001b[0m     \u001b[38;5;28;01mreturn\u001b[39;00m func(user_type)\n\u001b[0;32m      7\u001b[0m \u001b[38;5;28;01melse\u001b[39;00m:\n\u001b[1;32m----> 8\u001b[0m     \u001b[38;5;28;01mraise\u001b[39;00m \u001b[38;5;167;01mPermissionError\u001b[39;00m(\u001b[38;5;124m'\u001b[39m\u001b[38;5;124mUnauthorized user\u001b[39m\u001b[38;5;124m'\u001b[39m)\n",
      "\u001b[1;31mPermissionError\u001b[0m: Unauthorized user"
     ]
    }
   ],
   "source": [
    "@authorizer\n",
    "def delete_user(user: int) -> str:\n",
    "    return f'Deleted user with id {user}.'"
   ]
  },
  {
   "cell_type": "code",
   "execution_count": 22,
   "id": "e6d59104",
   "metadata": {},
   "outputs": [
    {
     "ename": "PermissionError",
     "evalue": "Unauthorized user",
     "output_type": "error",
     "traceback": [
      "\u001b[1;31m---------------------------------------------------------------------------\u001b[0m",
      "\u001b[1;31mPermissionError\u001b[0m                           Traceback (most recent call last)",
      "Cell \u001b[1;32mIn[22], line 1\u001b[0m\n\u001b[1;32m----> 1\u001b[0m \u001b[38;5;28mprint\u001b[39m(\u001b[43mdelete_user\u001b[49m\u001b[43m(\u001b[49m\u001b[38;5;124;43m'\u001b[39;49m\u001b[38;5;124;43m1234\u001b[39;49m\u001b[38;5;124;43m'\u001b[39;49m\u001b[43m)\u001b[49m)\n",
      "Cell \u001b[1;32mIn[14], line 8\u001b[0m, in \u001b[0;36mauthorizer.<locals>.wrapper\u001b[1;34m(user_type)\u001b[0m\n\u001b[0;32m      6\u001b[0m     \u001b[38;5;28;01mreturn\u001b[39;00m func(user_type)\n\u001b[0;32m      7\u001b[0m \u001b[38;5;28;01melse\u001b[39;00m:\n\u001b[1;32m----> 8\u001b[0m     \u001b[38;5;28;01mraise\u001b[39;00m \u001b[38;5;167;01mPermissionError\u001b[39;00m(\u001b[38;5;124m'\u001b[39m\u001b[38;5;124mUnauthorized user\u001b[39m\u001b[38;5;124m'\u001b[39m)\n",
      "\u001b[1;31mPermissionError\u001b[0m: Unauthorized user"
     ]
    }
   ],
   "source": [
    "print(delete_user('1234'))"
   ]
  },
  {
   "cell_type": "markdown",
   "id": "fcc69f59",
   "metadata": {},
   "source": [
    "# Intermediate difficulty"
   ]
  },
  {
   "cell_type": "markdown",
   "id": "e764fcd4",
   "metadata": {},
   "source": [
    "Caching Decorator:\n",
    "Create a decorator that caches the return value of the fibonacci function you see. The cache should be made such that if the function is called again with the same arguments, it returns the cached result instead of recalculating it."
   ]
  },
  {
   "cell_type": "code",
   "execution_count": 8,
   "id": "971d5530",
   "metadata": {},
   "outputs": [],
   "source": [
    "def fibonacci(n):\n",
    "    if n < 2:\n",
    "        return n\n",
    "    return fibonacci(n-1) + fibonacci(n-2)"
   ]
  },
  {
   "cell_type": "code",
   "execution_count": null,
   "id": "a15c47a8",
   "metadata": {},
   "outputs": [],
   "source": []
  }
 ],
 "metadata": {
  "kernelspec": {
   "display_name": "Python 3 (ipykernel)",
   "language": "python",
   "name": "python3"
  },
  "language_info": {
   "codemirror_mode": {
    "name": "ipython",
    "version": 3
   },
   "file_extension": ".py",
   "mimetype": "text/x-python",
   "name": "python",
   "nbconvert_exporter": "python",
   "pygments_lexer": "ipython3",
   "version": "3.12.0"
  }
 },
 "nbformat": 4,
 "nbformat_minor": 5
}
