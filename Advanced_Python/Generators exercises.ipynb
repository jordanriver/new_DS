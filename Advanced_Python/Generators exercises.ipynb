{
 "cells": [
  {
   "cell_type": "code",
   "execution_count": 12,
   "id": "a4f5a39c",
   "metadata": {},
   "outputs": [],
   "source": [
    "stars = [\n",
    "    \"Sirius\", \"Canopus\", \"Arcturus\", \"Alpha Centauri\", \"Vega\",\n",
    "    \"Rigel\", \"Procyon\", \"Achernar\", \"Betelgeuse\", \"Hadar\",\n",
    "    \"Altair\", \"Acrux\", \"Aldebaran\", \"Antares\", \"Spica\",\n",
    "    \"Pollux\", \"Fomalhaut\", \"Deneb\", \"Mimosa\", \"Regulus\",\n",
    "    \"Adhara\", \"Shaula\", \"Castor\", \"Gacrux\", \"Bellatrix\",\n",
    "    \"Elnath\", \"Miaplacidus\", \"Alnilam\", \"Gamma Velorum\", \"Alnair\",\n",
    "    \"Alioth\", \"Dubhe\", \"Mirfak\", \"Alphard\", \"Regor\",\n",
    "    \"Wezen\", \"Sargas\", \"Kaus Australis\", \"Avior\", \"Alkaid\",\n",
    "    \"Menkent\", \"Atria\", \"Alhena\", \"Peacock\", \"Polaris\",\n",
    "    \"Mirzam\", \"Alpherg\", \"Hamal\", \"Diphda\", \"Mizar\",\n",
    "    \"Gienah\", \"Muliphein\", \"Rasalhague\", \"Scheat\", \"Markab\",\n",
    "    \"Alphecca\", \"Algol\", \"Mintaka\", \"Alcor\", \"Almach\",\n",
    "    \"Suhail\", \"Denebola\", \"Merope\", \"Atlas\", \"Alcyone\",\n",
    "    \"Maia\", \"Electra\", \"Taygeta\", \"Celaeno\", \"Sterope\",\n",
    "    \"Mira\", \"Merak\", \"Dubhe\", \"Vindemiatrix\", \"Zavijava\",\n",
    "    \"Alkaphrah\", \"Unukalhai\", \"Algieba\", \"Regulus\", \"Dschubba\",\n",
    "    \"Gacrux\", \"Gienah Corvi\", \"Minkar\", \"Aljanah\", \"Vega\",\n",
    "    \"Capella\", \"Rigel Kentaurus\", \"Achird\", \"Sadr\", \"Zubenelgenubi\",\n",
    "    \"Zubenelakrab\", \"Scheat\", \"Markab\", \"Alpheratz\", \"Mirach\",\n",
    "    \"Aludra\", \"Saiph\", \"Bellatrix\", \"Eltanin\", \"Rastaban\"\n",
    "]"
   ]
  },
  {
   "cell_type": "markdown",
   "id": "44f7addc",
   "metadata": {},
   "source": [
    "# Exercise 1"
   ]
  },
  {
   "cell_type": "markdown",
   "id": "46d25d55",
   "metadata": {},
   "source": [
    "Write a generator function that yield names of stars"
   ]
  },
  {
   "cell_type": "code",
   "execution_count": 20,
   "id": "a931e6b8",
   "metadata": {},
   "outputs": [],
   "source": [
    "def star_yielder():\n",
    "    for star in stars:\n",
    "        yield star"
   ]
  },
  {
   "cell_type": "code",
   "execution_count": 21,
   "id": "e179eab8",
   "metadata": {},
   "outputs": [],
   "source": [
    "def generate_star():\n",
    "    for star in star_yielder():\n",
    "        print(star)        "
   ]
  },
  {
   "cell_type": "code",
   "execution_count": 22,
   "id": "75d68a5b",
   "metadata": {},
   "outputs": [
    {
     "name": "stdout",
     "output_type": "stream",
     "text": [
      "Sirius\n",
      "Canopus\n",
      "Arcturus\n",
      "Alpha Centauri\n",
      "Vega\n",
      "Rigel\n",
      "Procyon\n",
      "Achernar\n",
      "Betelgeuse\n",
      "Hadar\n",
      "Altair\n",
      "Acrux\n",
      "Aldebaran\n",
      "Antares\n",
      "Spica\n",
      "Pollux\n",
      "Fomalhaut\n",
      "Deneb\n",
      "Mimosa\n",
      "Regulus\n",
      "Adhara\n",
      "Shaula\n",
      "Castor\n",
      "Gacrux\n",
      "Bellatrix\n",
      "Elnath\n",
      "Miaplacidus\n",
      "Alnilam\n",
      "Gamma Velorum\n",
      "Alnair\n",
      "Alioth\n",
      "Dubhe\n",
      "Mirfak\n",
      "Alphard\n",
      "Regor\n",
      "Wezen\n",
      "Sargas\n",
      "Kaus Australis\n",
      "Avior\n",
      "Alkaid\n",
      "Menkent\n",
      "Atria\n",
      "Alhena\n",
      "Peacock\n",
      "Polaris\n",
      "Mirzam\n",
      "Alpherg\n",
      "Hamal\n",
      "Diphda\n",
      "Mizar\n",
      "Gienah\n",
      "Muliphein\n",
      "Rasalhague\n",
      "Scheat\n",
      "Markab\n",
      "Alphecca\n",
      "Algol\n",
      "Mintaka\n",
      "Alcor\n",
      "Almach\n",
      "Suhail\n",
      "Denebola\n",
      "Merope\n",
      "Atlas\n",
      "Alcyone\n",
      "Maia\n",
      "Electra\n",
      "Taygeta\n",
      "Celaeno\n",
      "Sterope\n",
      "Mira\n",
      "Merak\n",
      "Dubhe\n",
      "Vindemiatrix\n",
      "Zavijava\n",
      "Alkaphrah\n",
      "Unukalhai\n",
      "Algieba\n",
      "Regulus\n",
      "Dschubba\n",
      "Gacrux\n",
      "Gienah Corvi\n",
      "Minkar\n",
      "Aljanah\n",
      "Vega\n",
      "Capella\n",
      "Rigel Kentaurus\n",
      "Achird\n",
      "Sadr\n",
      "Zubenelgenubi\n",
      "Zubenelakrab\n",
      "Scheat\n",
      "Markab\n",
      "Alpheratz\n",
      "Mirach\n",
      "Aludra\n",
      "Saiph\n",
      "Bellatrix\n",
      "Eltanin\n",
      "Rastaban\n"
     ]
    }
   ],
   "source": [
    "generate_star()"
   ]
  },
  {
   "cell_type": "markdown",
   "id": "7c8e4be0",
   "metadata": {},
   "source": [
    "# Exercise 2"
   ]
  },
  {
   "cell_type": "markdown",
   "id": "d1183b7f",
   "metadata": {},
   "source": [
    "Write a generator function countdown(n) that yields the numbers from n down to 1."
   ]
  },
  {
   "cell_type": "code",
   "execution_count": 45,
   "id": "5aac410b",
   "metadata": {},
   "outputs": [],
   "source": [
    "def yield_to_one(n):        \n",
    "    while n > 0:\n",
    "        yield n\n",
    "        n -= 1"
   ]
  },
  {
   "cell_type": "code",
   "execution_count": 46,
   "id": "50317cb2",
   "metadata": {},
   "outputs": [],
   "source": [
    "def countdown_to_one():\n",
    "    n = int(input('Number: '))\n",
    "    for num in yield_to_one(n):\n",
    "        print(num)"
   ]
  },
  {
   "cell_type": "code",
   "execution_count": 47,
   "id": "b368c684",
   "metadata": {},
   "outputs": [
    {
     "name": "stdout",
     "output_type": "stream",
     "text": [
      "8\n",
      "7\n",
      "6\n",
      "5\n",
      "4\n",
      "3\n",
      "2\n",
      "1\n"
     ]
    }
   ],
   "source": [
    "countdown_to_one()"
   ]
  },
  {
   "cell_type": "markdown",
   "id": "74758c7d",
   "metadata": {},
   "source": [
    "# Exercise 3"
   ]
  },
  {
   "cell_type": "markdown",
   "id": "849637b7",
   "metadata": {},
   "source": [
    "Write a generator function that yield names of stars if the length of their name is even (including spaces)."
   ]
  },
  {
   "cell_type": "code",
   "execution_count": 28,
   "id": "1c117be2",
   "metadata": {},
   "outputs": [],
   "source": [
    "def even_star_yielder():\n",
    "    for star in stars:\n",
    "        if len(star) %2 == 0:\n",
    "            yield star"
   ]
  },
  {
   "cell_type": "code",
   "execution_count": 31,
   "id": "e0122b27",
   "metadata": {},
   "outputs": [],
   "source": [
    "def find_even_star_length():\n",
    "    for star in even_star_yielder():\n",
    "        print(star)"
   ]
  },
  {
   "cell_type": "code",
   "execution_count": 32,
   "id": "8488449e",
   "metadata": {},
   "outputs": [
    {
     "name": "stdout",
     "output_type": "stream",
     "text": [
      "Sirius\n",
      "Arcturus\n",
      "Alpha Centauri\n",
      "Vega\n",
      "Achernar\n",
      "Betelgeuse\n",
      "Altair\n",
      "Pollux\n",
      "Mimosa\n",
      "Adhara\n",
      "Shaula\n",
      "Castor\n",
      "Gacrux\n",
      "Elnath\n",
      "Alnair\n",
      "Alioth\n",
      "Mirfak\n",
      "Sargas\n",
      "Kaus Australis\n",
      "Alkaid\n",
      "Alhena\n",
      "Mirzam\n",
      "Diphda\n",
      "Gienah\n",
      "Rasalhague\n",
      "Scheat\n",
      "Markab\n",
      "Alphecca\n",
      "Almach\n",
      "Suhail\n",
      "Denebola\n",
      "Merope\n",
      "Maia\n",
      "Mira\n",
      "Vindemiatrix\n",
      "Zavijava\n",
      "Dschubba\n",
      "Gacrux\n",
      "Gienah Corvi\n",
      "Minkar\n",
      "Vega\n",
      "Achird\n",
      "Sadr\n",
      "Zubenelakrab\n",
      "Scheat\n",
      "Markab\n",
      "Mirach\n",
      "Aludra\n",
      "Rastaban\n"
     ]
    }
   ],
   "source": [
    "find_even_star_length()"
   ]
  },
  {
   "cell_type": "markdown",
   "id": "fcc69f59",
   "metadata": {},
   "source": [
    "# Intermediate difficulty"
   ]
  },
  {
   "cell_type": "markdown",
   "id": "58eb5d9d",
   "metadata": {},
   "source": [
    "Write a generator function star_system_info() that yields tuples containing the name of a star system and the number of stars in that system. Assume each star system has between 1 and 5 stars."
   ]
  },
  {
   "cell_type": "code",
   "execution_count": 44,
   "id": "fac47bc6",
   "metadata": {},
   "outputs": [],
   "source": [
    "star_systems_with_planets = [\n",
    "    (\"Alpha Centauri\", 3), (\"Sirius\", 2), (\"Proxima Centauri\", 1),\n",
    "    (\"Barnard's Star\", 2), (\"Wolf 359\", 3), (\"Luyten's Star\", 4),\n",
    "    (\"Ross 128\", 2), (\"Epsilon Eridani\", 5), (\"Lacaille 9352\", 1),\n",
    "    (\"Kapteyn's Star\", 3), (\"Kruger 60\", 2), (\"Tau Ceti\", 4),\n",
    "    (\"GJ 1061\", 3), (\"YZ Ceti\", 2), (\"LHS 1140\", 4),\n",
    "    (\"Teegarden's Star\", 5), (\"TRAPPIST-1\", 7), (\"LHS 292\", 1),\n",
    "    (\"GJ 1214\", 1), (\"GJ 667 C\", 3)\n",
    "]"
   ]
  },
  {
   "cell_type": "code",
   "execution_count": null,
   "id": "2e4c9528",
   "metadata": {},
   "outputs": [],
   "source": [
    "def star_system_info():\n",
    "    for star"
   ]
  },
  {
   "cell_type": "markdown",
   "id": "9597f324",
   "metadata": {},
   "source": [
    "# Class Practice"
   ]
  },
  {
   "cell_type": "code",
   "execution_count": 1,
   "id": "84e2ca89",
   "metadata": {},
   "outputs": [
    {
     "name": "stdout",
     "output_type": "stream",
     "text": [
      "Text file written at: test_txt_file.txt\n"
     ]
    }
   ],
   "source": [
    "# Some lorem ipsum, sample text.\n",
    "sample_text = \"\"\"Lorem ipsum dolor sit amet, consectetur adipiscing elit.\n",
    "Sed do eiusmod tempor incididunt ut labore et dolore magna aliqua.\n",
    "Ut enim ad minim veniam, quis nostrud exercitation ullamco laboris.\n",
    "Duis aute irure dolor in reprehenderit in voluptate velit esse.\n",
    "Cillum dolore eu fugiat nulla pariatur. Excepteur sint occaecat cupidatat.\n",
    "Non proident, sunt in culpa qui officia deserunt mollit anim id est laborum.\n",
    "Integer posuere erat a ante venenatis dapibus posuere velit aliquet.\n",
    "Curabitur blandit tempus porttitor. Nullam id dolor id nibh ultricies vehicula ut id elit.\n",
    "Fusce dapibus, tellus ac cursus commodo, tortor mauris condimentum nibh.\"\"\"\n",
    "\n",
    "\n",
    "file_path = 'test_txt_file.txt'\n",
    "with open(file_path, 'w') as file:\n",
    "    for _ in range(500_000):\n",
    "        file.write(sample_text + '\\n')\n",
    "\n",
    "print(f'Text file written at: {file_path}')"
   ]
  },
  {
   "cell_type": "code",
   "execution_count": 2,
   "id": "4f0b6b57",
   "metadata": {},
   "outputs": [],
   "source": [
    "import tracemalloc\n",
    "\n",
    "def calc_memory_consumption(func):\n",
    "    \n",
    "    def inner():\n",
    "        tracemalloc.start()\n",
    "        func()\n",
    "        start_memory, end_memory = tracemalloc.get_traced_memory()\n",
    "        print(f\"Memory Consumption: {end_memory - start_memory}\")\n",
    "        tracemalloc.stop()\n",
    "    return inner"
   ]
  },
  {
   "cell_type": "code",
   "execution_count": 3,
   "id": "17562f27",
   "metadata": {},
   "outputs": [],
   "source": [
    "@calc_memory_consumption\n",
    "def find_wopa_without_generator():\n",
    "    with open('test_txt_file.txt', 'r') as f:\n",
    "        for line in f.readlines():\n",
    "            if 'wopa' in line.lower():\n",
    "                break"
   ]
  },
  {
   "cell_type": "code",
   "execution_count": 4,
   "id": "1988e40b",
   "metadata": {},
   "outputs": [],
   "source": [
    "def read_file_with_yield():\n",
    "    with open('test_txt_file.txt', 'r') as file:\n",
    "        for line in file:\n",
    "            yield line.strip()\n",
    "\n",
    "@calc_memory_consumption\n",
    "def find_wopa_with_generator():\n",
    "            \n",
    "    for line in read_file_with_yield():\n",
    "        if 'wopa' in line.lower():\n",
    "            print(\"Condition met. Stopping.\")\n",
    "            break"
   ]
  },
  {
   "cell_type": "code",
   "execution_count": 5,
   "id": "3bfb600b",
   "metadata": {},
   "outputs": [
    {
     "name": "stdout",
     "output_type": "stream",
     "text": [
      "CPU times: total: 0 ns\n",
      "Wall time: 0 ns\n",
      "CPU times: total: 0 ns\n",
      "Wall time: 0 ns\n"
     ]
    },
    {
     "data": {
      "text/plain": [
       "<function __main__.calc_memory_consumption.<locals>.inner()>"
      ]
     },
     "execution_count": 5,
     "metadata": {},
     "output_type": "execute_result"
    }
   ],
   "source": [
    "# I'm using the %time magic function in Jupyter to calculagte the time it\n",
    "# takes to run the function. If you are not using Jupyter, remove this.\n",
    "\n",
    "%time find_wopa_without_generator\n",
    "\n",
    "%time find_wopa_with_generator"
   ]
  }
 ],
 "metadata": {
  "kernelspec": {
   "display_name": "Python 3 (ipykernel)",
   "language": "python",
   "name": "python3"
  },
  "language_info": {
   "codemirror_mode": {
    "name": "ipython",
    "version": 3
   },
   "file_extension": ".py",
   "mimetype": "text/x-python",
   "name": "python",
   "nbconvert_exporter": "python",
   "pygments_lexer": "ipython3",
   "version": "3.12.0"
  }
 },
 "nbformat": 4,
 "nbformat_minor": 5
}
